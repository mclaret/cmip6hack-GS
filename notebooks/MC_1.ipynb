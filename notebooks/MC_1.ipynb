{
 "cells": [
  {
   "cell_type": "code",
   "execution_count": 1,
   "metadata": {},
   "outputs": [],
   "source": [
    "import xarray\n",
    "import intake\n",
    "import util "
   ]
  },
  {
   "cell_type": "code",
   "execution_count": 2,
   "metadata": {},
   "outputs": [
    {
     "data": {
      "text/plain": [
       "glade-cmip6-ESM Collection with 1115856 entries:\n",
       "\t> 17 activity_id(s)\n",
       "\n",
       "\t> 24 institution_id(s)\n",
       "\n",
       "\t> 48 source_id(s)\n",
       "\n",
       "\t> 82 experiment_id(s)\n",
       "\n",
       "\t> 163 member_id(s)\n",
       "\n",
       "\t> 35 table_id(s)\n",
       "\n",
       "\t> 1029 variable_id(s)\n",
       "\n",
       "\t> 12 grid_label(s)\n",
       "\n",
       "\t> 59 dcpp_init_year(s)\n",
       "\n",
       "\t> 251 version(s)\n",
       "\n",
       "\t> 7799 time_range(s)\n",
       "\n",
       "\t> 1115856 path(s)"
      ]
     },
     "execution_count": 2,
     "metadata": {},
     "output_type": "execute_result"
    }
   ],
   "source": [
    "if util.is_ncar_host():\n",
    "    col = intake.open_esm_datastore(\"../catalogs/glade-cmip6.json\")\n",
    "else:\n",
    "    col = intake.open_esm_datastore(\"../catalogs/pangeo-cmip6.json\")\n",
    "col"
   ]
  },
  {
   "cell_type": "code",
   "execution_count": 3,
   "metadata": {},
   "outputs": [
    {
     "name": "stdout",
     "output_type": "stream",
     "text": [
      "{'experiment_id': {'count': 82,\n",
      "                   'values': ['ssp370', 'histSST-piNTCF', 'histSST',\n",
      "                              'histSST-1950HC', 'hist-1950HC', 'hist-piNTCF',\n",
      "                              'piClim-NTCF', 'ssp370SST-lowNTCF',\n",
      "                              'ssp370-lowNTCF', 'ssp370SST', '1pctCO2-bgc',\n",
      "                              'hist-bgc', 'esm-ssp585', '1pctCO2-cdr',\n",
      "                              'amip-future4K', 'amip-m4K', 'a4SST', 'aqua-p4K',\n",
      "                              'piSST', 'amip-4xCO2', 'a4SSTice', 'amip-p4K',\n",
      "                              'aqua-control', 'aqua-4xCO2', 'abrupt-4xCO2',\n",
      "                              'historical', 'piControl', 'amip', '1pctCO2',\n",
      "                              'esm-hist', 'esm-piControl', 'ssp245', 'ssp585',\n",
      "                              'ssp126', 'hist-GHG', 'hist-aer', 'hist-nat',\n",
      "                              'dcppA-hindcast', 'dcppC-hindcast-noPinatubo',\n",
      "                              'dcppC-hindcast-noElChichon', 'dcppA-assim',\n",
      "                              'dcppC-hindcast-noAgung', 'amip-hist', 'G6solar',\n",
      "                              'G1', 'hist-1950', 'highresSST-present',\n",
      "                              'control-1950', 'land-hist-princeton',\n",
      "                              'land-hist-cruNcep', 'land-hist',\n",
      "                              'deforest-globe', 'esm-ssp585-ssp126Lu',\n",
      "                              'land-cCO2', 'hist-noLu', 'land-crop-noFert',\n",
      "                              'ssp370-ssp126Lu', 'ssp126-ssp370Lu', 'land-noLu',\n",
      "                              'land-noFire', 'land-hist-altStartYear',\n",
      "                              'land-cClim', 'omip1', 'omip2', 'pdSST-piAntSIC',\n",
      "                              'pdSST-futAntSIC', 'pdSST-pdSIC',\n",
      "                              'pdSST-piArcSIC', 'pdSST-futArcSIC', 'lig127k',\n",
      "                              'midHolocene', 'lgm', 'piClim-lu', 'piClim-ghg',\n",
      "                              'piClim-control', 'piClim-anthro', 'piClim-4xCO2',\n",
      "                              'piClim-aer', 'ssp119', 'ssp434', 'ssp460',\n",
      "                              'ssp534-over']},\n",
      " 'source_id': {'count': 48,\n",
      "               'values': ['BCC-ESM1', 'CESM2-WACCM', 'CESM2', 'CNRM-ESM2-1',\n",
      "                          'BCC-CSM2-MR', 'UKESM1-0-LL', 'GFDL-ESM4',\n",
      "                          'GISS-E2-1-G', 'CanESM5', 'CNRM-CM6-1', 'FGOALS-f3-L',\n",
      "                          'FGOALS-g3', 'SAM0-UNICON', 'HadGEM3-GC31-LL',\n",
      "                          'HadGEM3-GC31-MM', 'AWI-CM-1-1-MR', 'GFDL-AM4',\n",
      "                          'GFDL-CM4', 'GISS-E2-1-H', 'E3SM-1-0', 'CAMS-CSM1-0',\n",
      "                          'MCM-UA-1-0', 'EC-Earth3-LR', 'EC-Earth3',\n",
      "                          'EC-Earth3-Veg', 'MRI-ESM2-0', 'NESM3', 'MIROC-ES2L',\n",
      "                          'MIROC6', 'IPSL-CM6A-LR', 'NorCPM1', 'NorESM2-LM',\n",
      "                          'FIO-ESM-2-0', 'MPI-ESM1-2-HR', 'CESM1-1-CAM5-CMIP5',\n",
      "                          'CNRM-CM6-1-HR', 'FGOALS-f3-H', 'HadGEM3-GC31-HM',\n",
      "                          'HadGEM3-GC31-LM', 'GFDL-CM4C192', 'ECMWF-IFS-LR',\n",
      "                          'ECMWF-IFS-HR', 'CMCC-CM2-VHR4', 'CMCC-CM2-HR4',\n",
      "                          'NICAM16-7S', 'NICAM16-8S', 'NICAM16-9S',\n",
      "                          'IPSL-CM6A-ATM-HR']},\n",
      " 'table_id': {'count': 35,\n",
      "              'values': ['day', 'Amon', 'AERmonZ', 'CFmon', 'EdayZ', 'Eday',\n",
      "                         'CFday', 'EmonZ', 'AERday', 'Emon', 'fx', 'Lmon',\n",
      "                         'AERmon', 'Ofx', 'Omon', 'SImon', 'Oyr', 'AERhr',\n",
      "                         'Eyr', 'LImon', 'SIday', '6hrPlev', 'CFsubhr',\n",
      "                         '6hrLev', 'Oday', 'ImonGre', 'ImonAnt', 'Efx',\n",
      "                         'IfxGre', '3hr', '6hrPlevPt', 'E1hr', 'E3hr', 'Oclim',\n",
      "                         'CF3hr']}}\n"
     ]
    }
   ],
   "source": [
    "import pprint \n",
    "uni_dict = col.unique(['source_id', 'experiment_id', 'table_id'])\n",
    "pprint.pprint(uni_dict, compact=True)"
   ]
  },
  {
   "cell_type": "code",
   "execution_count": 4,
   "metadata": {},
   "outputs": [
    {
     "data": {
      "text/html": [
       "<div>\n",
       "<style scoped>\n",
       "    .dataframe tbody tr th:only-of-type {\n",
       "        vertical-align: middle;\n",
       "    }\n",
       "\n",
       "    .dataframe tbody tr th {\n",
       "        vertical-align: top;\n",
       "    }\n",
       "\n",
       "    .dataframe thead th {\n",
       "        text-align: right;\n",
       "    }\n",
       "</style>\n",
       "<table border=\"1\" class=\"dataframe\">\n",
       "  <thead>\n",
       "    <tr style=\"text-align: right;\">\n",
       "      <th></th>\n",
       "      <th>activity_id</th>\n",
       "      <th>institution_id</th>\n",
       "      <th>source_id</th>\n",
       "      <th>experiment_id</th>\n",
       "      <th>member_id</th>\n",
       "      <th>table_id</th>\n",
       "      <th>variable_id</th>\n",
       "      <th>grid_label</th>\n",
       "      <th>dcpp_init_year</th>\n",
       "      <th>version</th>\n",
       "      <th>time_range</th>\n",
       "      <th>path</th>\n",
       "    </tr>\n",
       "  </thead>\n",
       "  <tbody>\n",
       "    <tr>\n",
       "      <td>255689</td>\n",
       "      <td>CMIP</td>\n",
       "      <td>NOAA-GFDL</td>\n",
       "      <td>GFDL-CM4</td>\n",
       "      <td>piControl</td>\n",
       "      <td>r1i1p1f1</td>\n",
       "      <td>Omon</td>\n",
       "      <td>tos</td>\n",
       "      <td>gn</td>\n",
       "      <td>NaN</td>\n",
       "      <td>v20190201</td>\n",
       "      <td>063101-065012</td>\n",
       "      <td>/glade/collections/cmip/CMIP6/CMIP/NOAA-GFDL/G...</td>\n",
       "    </tr>\n",
       "    <tr>\n",
       "      <td>255725</td>\n",
       "      <td>CMIP</td>\n",
       "      <td>NOAA-GFDL</td>\n",
       "      <td>GFDL-CM4</td>\n",
       "      <td>piControl</td>\n",
       "      <td>r1i1p1f1</td>\n",
       "      <td>Omon</td>\n",
       "      <td>tos</td>\n",
       "      <td>gr</td>\n",
       "      <td>NaN</td>\n",
       "      <td>v20190201</td>\n",
       "      <td>063101-065012</td>\n",
       "      <td>/glade/collections/cmip/CMIP6/CMIP/NOAA-GFDL/G...</td>\n",
       "    </tr>\n",
       "    <tr>\n",
       "      <td>256107</td>\n",
       "      <td>CMIP</td>\n",
       "      <td>NOAA-GFDL</td>\n",
       "      <td>GFDL-CM4</td>\n",
       "      <td>piControl</td>\n",
       "      <td>r1i1p1f1</td>\n",
       "      <td>Omon</td>\n",
       "      <td>thetao</td>\n",
       "      <td>gn</td>\n",
       "      <td>NaN</td>\n",
       "      <td>v20180701</td>\n",
       "      <td>063101-065012</td>\n",
       "      <td>/glade/collections/cmip/CMIP6/CMIP/NOAA-GFDL/G...</td>\n",
       "    </tr>\n",
       "    <tr>\n",
       "      <td>256133</td>\n",
       "      <td>CMIP</td>\n",
       "      <td>NOAA-GFDL</td>\n",
       "      <td>GFDL-CM4</td>\n",
       "      <td>piControl</td>\n",
       "      <td>r1i1p1f1</td>\n",
       "      <td>Omon</td>\n",
       "      <td>thetao</td>\n",
       "      <td>gr</td>\n",
       "      <td>NaN</td>\n",
       "      <td>v20180701</td>\n",
       "      <td>063101-065012</td>\n",
       "      <td>/glade/collections/cmip/CMIP6/CMIP/NOAA-GFDL/G...</td>\n",
       "    </tr>\n",
       "    <tr>\n",
       "      <td>256313</td>\n",
       "      <td>CMIP</td>\n",
       "      <td>NOAA-GFDL</td>\n",
       "      <td>GFDL-CM4</td>\n",
       "      <td>piControl</td>\n",
       "      <td>r1i1p1f1</td>\n",
       "      <td>Omon</td>\n",
       "      <td>vo</td>\n",
       "      <td>gn</td>\n",
       "      <td>NaN</td>\n",
       "      <td>v20180701</td>\n",
       "      <td>063101-065012</td>\n",
       "      <td>/glade/collections/cmip/CMIP6/CMIP/NOAA-GFDL/G...</td>\n",
       "    </tr>\n",
       "    <tr>\n",
       "      <td>256541</td>\n",
       "      <td>CMIP</td>\n",
       "      <td>NOAA-GFDL</td>\n",
       "      <td>GFDL-CM4</td>\n",
       "      <td>piControl</td>\n",
       "      <td>r1i1p1f1</td>\n",
       "      <td>Omon</td>\n",
       "      <td>uo</td>\n",
       "      <td>gn</td>\n",
       "      <td>NaN</td>\n",
       "      <td>v20180701</td>\n",
       "      <td>063101-065012</td>\n",
       "      <td>/glade/collections/cmip/CMIP6/CMIP/NOAA-GFDL/G...</td>\n",
       "    </tr>\n",
       "    <tr>\n",
       "      <td>256918</td>\n",
       "      <td>CMIP</td>\n",
       "      <td>NOAA-GFDL</td>\n",
       "      <td>GFDL-CM4</td>\n",
       "      <td>piControl</td>\n",
       "      <td>r1i1p1f1</td>\n",
       "      <td>Omon</td>\n",
       "      <td>so</td>\n",
       "      <td>gn</td>\n",
       "      <td>NaN</td>\n",
       "      <td>v20180701</td>\n",
       "      <td>063101-065012</td>\n",
       "      <td>/glade/collections/cmip/CMIP6/CMIP/NOAA-GFDL/G...</td>\n",
       "    </tr>\n",
       "    <tr>\n",
       "      <td>256939</td>\n",
       "      <td>CMIP</td>\n",
       "      <td>NOAA-GFDL</td>\n",
       "      <td>GFDL-CM4</td>\n",
       "      <td>piControl</td>\n",
       "      <td>r1i1p1f1</td>\n",
       "      <td>Omon</td>\n",
       "      <td>so</td>\n",
       "      <td>gr</td>\n",
       "      <td>NaN</td>\n",
       "      <td>v20180701</td>\n",
       "      <td>063101-065012</td>\n",
       "      <td>/glade/collections/cmip/CMIP6/CMIP/NOAA-GFDL/G...</td>\n",
       "    </tr>\n",
       "    <tr>\n",
       "      <td>257033</td>\n",
       "      <td>CMIP</td>\n",
       "      <td>NOAA-GFDL</td>\n",
       "      <td>GFDL-CM4</td>\n",
       "      <td>piControl</td>\n",
       "      <td>r1i1p1f1</td>\n",
       "      <td>Omon</td>\n",
       "      <td>o2</td>\n",
       "      <td>gr</td>\n",
       "      <td>NaN</td>\n",
       "      <td>v20180701</td>\n",
       "      <td>063101-065012</td>\n",
       "      <td>/glade/collections/cmip/CMIP6/CMIP/NOAA-GFDL/G...</td>\n",
       "    </tr>\n",
       "    <tr>\n",
       "      <td>258308</td>\n",
       "      <td>CMIP</td>\n",
       "      <td>NOAA-GFDL</td>\n",
       "      <td>GFDL-CM4</td>\n",
       "      <td>1pctCO2</td>\n",
       "      <td>r1i1p1f1</td>\n",
       "      <td>Omon</td>\n",
       "      <td>tos</td>\n",
       "      <td>gn</td>\n",
       "      <td>NaN</td>\n",
       "      <td>v20180701</td>\n",
       "      <td>012101-014012</td>\n",
       "      <td>/glade/collections/cmip/CMIP6/CMIP/NOAA-GFDL/G...</td>\n",
       "    </tr>\n",
       "    <tr>\n",
       "      <td>258316</td>\n",
       "      <td>CMIP</td>\n",
       "      <td>NOAA-GFDL</td>\n",
       "      <td>GFDL-CM4</td>\n",
       "      <td>1pctCO2</td>\n",
       "      <td>r1i1p1f1</td>\n",
       "      <td>Omon</td>\n",
       "      <td>tos</td>\n",
       "      <td>gr</td>\n",
       "      <td>NaN</td>\n",
       "      <td>v20180701</td>\n",
       "      <td>012101-014012</td>\n",
       "      <td>/glade/collections/cmip/CMIP6/CMIP/NOAA-GFDL/G...</td>\n",
       "    </tr>\n",
       "    <tr>\n",
       "      <td>258388</td>\n",
       "      <td>CMIP</td>\n",
       "      <td>NOAA-GFDL</td>\n",
       "      <td>GFDL-CM4</td>\n",
       "      <td>1pctCO2</td>\n",
       "      <td>r1i1p1f1</td>\n",
       "      <td>Omon</td>\n",
       "      <td>thetao</td>\n",
       "      <td>gn</td>\n",
       "      <td>NaN</td>\n",
       "      <td>v20180701</td>\n",
       "      <td>012101-014012</td>\n",
       "      <td>/glade/collections/cmip/CMIP6/CMIP/NOAA-GFDL/G...</td>\n",
       "    </tr>\n",
       "    <tr>\n",
       "      <td>258402</td>\n",
       "      <td>CMIP</td>\n",
       "      <td>NOAA-GFDL</td>\n",
       "      <td>GFDL-CM4</td>\n",
       "      <td>1pctCO2</td>\n",
       "      <td>r1i1p1f1</td>\n",
       "      <td>Omon</td>\n",
       "      <td>thetao</td>\n",
       "      <td>gr</td>\n",
       "      <td>NaN</td>\n",
       "      <td>v20180701</td>\n",
       "      <td>012101-014012</td>\n",
       "      <td>/glade/collections/cmip/CMIP6/CMIP/NOAA-GFDL/G...</td>\n",
       "    </tr>\n",
       "    <tr>\n",
       "      <td>258446</td>\n",
       "      <td>CMIP</td>\n",
       "      <td>NOAA-GFDL</td>\n",
       "      <td>GFDL-CM4</td>\n",
       "      <td>1pctCO2</td>\n",
       "      <td>r1i1p1f1</td>\n",
       "      <td>Omon</td>\n",
       "      <td>vo</td>\n",
       "      <td>gn</td>\n",
       "      <td>NaN</td>\n",
       "      <td>v20180701</td>\n",
       "      <td>012101-014012</td>\n",
       "      <td>/glade/collections/cmip/CMIP6/CMIP/NOAA-GFDL/G...</td>\n",
       "    </tr>\n",
       "    <tr>\n",
       "      <td>258508</td>\n",
       "      <td>CMIP</td>\n",
       "      <td>NOAA-GFDL</td>\n",
       "      <td>GFDL-CM4</td>\n",
       "      <td>1pctCO2</td>\n",
       "      <td>r1i1p1f1</td>\n",
       "      <td>Omon</td>\n",
       "      <td>uo</td>\n",
       "      <td>gn</td>\n",
       "      <td>NaN</td>\n",
       "      <td>v20180701</td>\n",
       "      <td>012101-014012</td>\n",
       "      <td>/glade/collections/cmip/CMIP6/CMIP/NOAA-GFDL/G...</td>\n",
       "    </tr>\n",
       "    <tr>\n",
       "      <td>258566</td>\n",
       "      <td>CMIP</td>\n",
       "      <td>NOAA-GFDL</td>\n",
       "      <td>GFDL-CM4</td>\n",
       "      <td>1pctCO2</td>\n",
       "      <td>r1i1p1f1</td>\n",
       "      <td>Omon</td>\n",
       "      <td>so</td>\n",
       "      <td>gn</td>\n",
       "      <td>NaN</td>\n",
       "      <td>v20180701</td>\n",
       "      <td>012101-014012</td>\n",
       "      <td>/glade/collections/cmip/CMIP6/CMIP/NOAA-GFDL/G...</td>\n",
       "    </tr>\n",
       "    <tr>\n",
       "      <td>258573</td>\n",
       "      <td>CMIP</td>\n",
       "      <td>NOAA-GFDL</td>\n",
       "      <td>GFDL-CM4</td>\n",
       "      <td>1pctCO2</td>\n",
       "      <td>r1i1p1f1</td>\n",
       "      <td>Omon</td>\n",
       "      <td>so</td>\n",
       "      <td>gr</td>\n",
       "      <td>NaN</td>\n",
       "      <td>v20180701</td>\n",
       "      <td>012101-014012</td>\n",
       "      <td>/glade/collections/cmip/CMIP6/CMIP/NOAA-GFDL/G...</td>\n",
       "    </tr>\n",
       "    <tr>\n",
       "      <td>258584</td>\n",
       "      <td>CMIP</td>\n",
       "      <td>NOAA-GFDL</td>\n",
       "      <td>GFDL-CM4</td>\n",
       "      <td>1pctCO2</td>\n",
       "      <td>r1i1p1f1</td>\n",
       "      <td>Omon</td>\n",
       "      <td>o2</td>\n",
       "      <td>gr</td>\n",
       "      <td>NaN</td>\n",
       "      <td>v20180701</td>\n",
       "      <td>012101-014012</td>\n",
       "      <td>/glade/collections/cmip/CMIP6/CMIP/NOAA-GFDL/G...</td>\n",
       "    </tr>\n",
       "  </tbody>\n",
       "</table>\n",
       "</div>"
      ],
      "text/plain": [
       "       activity_id institution_id source_id experiment_id member_id table_id  \\\n",
       "255689        CMIP      NOAA-GFDL  GFDL-CM4     piControl  r1i1p1f1     Omon   \n",
       "255725        CMIP      NOAA-GFDL  GFDL-CM4     piControl  r1i1p1f1     Omon   \n",
       "256107        CMIP      NOAA-GFDL  GFDL-CM4     piControl  r1i1p1f1     Omon   \n",
       "256133        CMIP      NOAA-GFDL  GFDL-CM4     piControl  r1i1p1f1     Omon   \n",
       "256313        CMIP      NOAA-GFDL  GFDL-CM4     piControl  r1i1p1f1     Omon   \n",
       "256541        CMIP      NOAA-GFDL  GFDL-CM4     piControl  r1i1p1f1     Omon   \n",
       "256918        CMIP      NOAA-GFDL  GFDL-CM4     piControl  r1i1p1f1     Omon   \n",
       "256939        CMIP      NOAA-GFDL  GFDL-CM4     piControl  r1i1p1f1     Omon   \n",
       "257033        CMIP      NOAA-GFDL  GFDL-CM4     piControl  r1i1p1f1     Omon   \n",
       "258308        CMIP      NOAA-GFDL  GFDL-CM4       1pctCO2  r1i1p1f1     Omon   \n",
       "258316        CMIP      NOAA-GFDL  GFDL-CM4       1pctCO2  r1i1p1f1     Omon   \n",
       "258388        CMIP      NOAA-GFDL  GFDL-CM4       1pctCO2  r1i1p1f1     Omon   \n",
       "258402        CMIP      NOAA-GFDL  GFDL-CM4       1pctCO2  r1i1p1f1     Omon   \n",
       "258446        CMIP      NOAA-GFDL  GFDL-CM4       1pctCO2  r1i1p1f1     Omon   \n",
       "258508        CMIP      NOAA-GFDL  GFDL-CM4       1pctCO2  r1i1p1f1     Omon   \n",
       "258566        CMIP      NOAA-GFDL  GFDL-CM4       1pctCO2  r1i1p1f1     Omon   \n",
       "258573        CMIP      NOAA-GFDL  GFDL-CM4       1pctCO2  r1i1p1f1     Omon   \n",
       "258584        CMIP      NOAA-GFDL  GFDL-CM4       1pctCO2  r1i1p1f1     Omon   \n",
       "\n",
       "       variable_id grid_label  dcpp_init_year    version     time_range  \\\n",
       "255689         tos         gn             NaN  v20190201  063101-065012   \n",
       "255725         tos         gr             NaN  v20190201  063101-065012   \n",
       "256107      thetao         gn             NaN  v20180701  063101-065012   \n",
       "256133      thetao         gr             NaN  v20180701  063101-065012   \n",
       "256313          vo         gn             NaN  v20180701  063101-065012   \n",
       "256541          uo         gn             NaN  v20180701  063101-065012   \n",
       "256918          so         gn             NaN  v20180701  063101-065012   \n",
       "256939          so         gr             NaN  v20180701  063101-065012   \n",
       "257033          o2         gr             NaN  v20180701  063101-065012   \n",
       "258308         tos         gn             NaN  v20180701  012101-014012   \n",
       "258316         tos         gr             NaN  v20180701  012101-014012   \n",
       "258388      thetao         gn             NaN  v20180701  012101-014012   \n",
       "258402      thetao         gr             NaN  v20180701  012101-014012   \n",
       "258446          vo         gn             NaN  v20180701  012101-014012   \n",
       "258508          uo         gn             NaN  v20180701  012101-014012   \n",
       "258566          so         gn             NaN  v20180701  012101-014012   \n",
       "258573          so         gr             NaN  v20180701  012101-014012   \n",
       "258584          o2         gr             NaN  v20180701  012101-014012   \n",
       "\n",
       "                                                     path  \n",
       "255689  /glade/collections/cmip/CMIP6/CMIP/NOAA-GFDL/G...  \n",
       "255725  /glade/collections/cmip/CMIP6/CMIP/NOAA-GFDL/G...  \n",
       "256107  /glade/collections/cmip/CMIP6/CMIP/NOAA-GFDL/G...  \n",
       "256133  /glade/collections/cmip/CMIP6/CMIP/NOAA-GFDL/G...  \n",
       "256313  /glade/collections/cmip/CMIP6/CMIP/NOAA-GFDL/G...  \n",
       "256541  /glade/collections/cmip/CMIP6/CMIP/NOAA-GFDL/G...  \n",
       "256918  /glade/collections/cmip/CMIP6/CMIP/NOAA-GFDL/G...  \n",
       "256939  /glade/collections/cmip/CMIP6/CMIP/NOAA-GFDL/G...  \n",
       "257033  /glade/collections/cmip/CMIP6/CMIP/NOAA-GFDL/G...  \n",
       "258308  /glade/collections/cmip/CMIP6/CMIP/NOAA-GFDL/G...  \n",
       "258316  /glade/collections/cmip/CMIP6/CMIP/NOAA-GFDL/G...  \n",
       "258388  /glade/collections/cmip/CMIP6/CMIP/NOAA-GFDL/G...  \n",
       "258402  /glade/collections/cmip/CMIP6/CMIP/NOAA-GFDL/G...  \n",
       "258446  /glade/collections/cmip/CMIP6/CMIP/NOAA-GFDL/G...  \n",
       "258508  /glade/collections/cmip/CMIP6/CMIP/NOAA-GFDL/G...  \n",
       "258566  /glade/collections/cmip/CMIP6/CMIP/NOAA-GFDL/G...  \n",
       "258573  /glade/collections/cmip/CMIP6/CMIP/NOAA-GFDL/G...  \n",
       "258584  /glade/collections/cmip/CMIP6/CMIP/NOAA-GFDL/G...  "
      ]
     },
     "execution_count": 4,
     "metadata": {},
     "output_type": "execute_result"
    }
   ],
   "source": [
    "cat = col.search(source_id=['GFDL-CM4','CNRM-CM6-1-HR','ECMWF-IFS-HR','HadGEM3-GC31-MM'],\n",
    "                 experiment_id=['piControl','1pctCO2'],\n",
    "                 table_id=['Omon','Oyr'],\n",
    "                # variable_id=['tos','uo','vo','msftyz','o2'])\n",
    "                 variable_id=['o2','tos','uo','vo','thetao','so'],\n",
    "                 grid_label=['gn','gr'],time_range=['063101-065012','012101-014012'])\n",
    "cat.df"
   ]
  },
  {
   "cell_type": "code",
   "execution_count": 5,
   "metadata": {},
   "outputs": [
    {
     "name": "stdout",
     "output_type": "stream",
     "text": [
      "\n",
      "xarray will load netCDF datasets with dask using a single chunk for all arrays.\n",
      "For effective chunking, please provide chunks in cdf_kwargs.\n",
      "For example: cdf_kwargs={'chunks': {'time': 36}}\n",
      "\n",
      "--> The keys in the returned dictionary of datasets are constructed as follows:\n",
      "\t'activity_id.institution_id.source_id.experiment_id.table_id.grid_label'\n",
      "\n",
      "--> There will be 4 group(s)\n"
     ]
    }
   ],
   "source": [
    "dset_dict = cat.to_dataset_dict(zarr_kwargs={'consolidated': True, 'decode_times': False}, \n",
    "                                cdf_kwargs={'chunks': {}, 'decode_times': False})"
   ]
  },
  {
   "cell_type": "code",
   "execution_count": 6,
   "metadata": {},
   "outputs": [
    {
     "data": {
      "text/plain": [
       "dict_keys(['CMIP.NOAA-GFDL.GFDL-CM4.1pctCO2.Omon.gn', 'CMIP.NOAA-GFDL.GFDL-CM4.1pctCO2.Omon.gr', 'CMIP.NOAA-GFDL.GFDL-CM4.piControl.Omon.gn', 'CMIP.NOAA-GFDL.GFDL-CM4.piControl.Omon.gr'])"
      ]
     },
     "execution_count": 6,
     "metadata": {},
     "output_type": "execute_result"
    }
   ],
   "source": [
    "dset_dict.keys()"
   ]
  },
  {
   "cell_type": "code",
   "execution_count": 24,
   "metadata": {},
   "outputs": [],
   "source": [
    "#dset_dict.items()"
   ]
  },
  {
   "cell_type": "code",
   "execution_count": 25,
   "metadata": {},
   "outputs": [],
   "source": [
    "ds_pct_gn=dset_dict['CMIP.NOAA-GFDL.GFDL-CM4.1pctCO2.Omon.gn']\n",
    "ds_cnt_gn=dset_dict['CMIP.NOAA-GFDL.GFDL-CM4.piControl.Omon.gn']"
   ]
  },
  {
   "cell_type": "code",
   "execution_count": 26,
   "metadata": {},
   "outputs": [],
   "source": [
    "ds_pct_gr=dset_dict['CMIP.NOAA-GFDL.GFDL-CM4.1pctCO2.Omon.gr']\n",
    "ds_cnt_gr=dset_dict['CMIP.NOAA-GFDL.GFDL-CM4.piControl.Omon.gr']"
   ]
  },
  {
   "cell_type": "code",
   "execution_count": 27,
   "metadata": {},
   "outputs": [
    {
     "data": {
      "text/plain": [
       "<xarray.Dataset>\n",
       "Dimensions:    (bnds: 2, lev: 35, member_id: 1, time: 240, vertex: 4, x: 1440, y: 1080)\n",
       "Coordinates:\n",
       "  * bnds       (bnds) float64 1.0 2.0\n",
       "  * member_id  (member_id) <U8 'r1i1p1f1'\n",
       "  * y          (y) float64 -80.39 -80.31 -80.23 -80.15 ... 89.73 89.84 89.95\n",
       "  * lev        (lev) float64 2.5 10.0 20.0 32.5 ... 5e+03 5.5e+03 6e+03 6.5e+03\n",
       "  * x          (x) float64 -299.7 -299.5 -299.2 -299.0 ... 59.53 59.78 60.03\n",
       "  * time       (time) float64 2.3e+05 2.3e+05 2.3e+05 ... 2.372e+05 2.372e+05\n",
       "Dimensions without coordinates: vertex\n",
       "Data variables:\n",
       "    lon        (y, x) float32 dask.array<chunksize=(1080, 1440), meta=np.ndarray>\n",
       "    lon_bnds   (y, x, vertex) float32 dask.array<chunksize=(1080, 1440, 4), meta=np.ndarray>\n",
       "    lat_bnds   (y, x, vertex) float32 dask.array<chunksize=(1080, 1440, 4), meta=np.ndarray>\n",
       "    lat        (y, x) float32 dask.array<chunksize=(1080, 1440), meta=np.ndarray>\n",
       "    lev_bnds   (lev, bnds) float64 dask.array<chunksize=(35, 2), meta=np.ndarray>\n",
       "    time_bnds  (time, bnds) float64 dask.array<chunksize=(240, 2), meta=np.ndarray>\n",
       "    so         (member_id, time, lev, y, x) float32 dask.array<chunksize=(1, 240, 35, 1080, 1440), meta=np.ndarray>\n",
       "    thetao     (member_id, time, lev, y, x) float32 dask.array<chunksize=(1, 240, 35, 1080, 1440), meta=np.ndarray>\n",
       "    tos        (member_id, time, y, x) float32 dask.array<chunksize=(1, 240, 1080, 1440), meta=np.ndarray>\n",
       "    uo         (member_id, time, lev, y, x) float32 dask.array<chunksize=(1, 240, 35, 1080, 1440), meta=np.ndarray>\n",
       "    vo         (member_id, time, lev, y, x) float32 dask.array<chunksize=(1, 240, 35, 1080, 1440), meta=np.ndarray>\n",
       "Attributes:\n",
       "    license:                CMIP6 model data produced by NOAA-GFDL is license...\n",
       "    grid:                   ocean data on native grid tripolar - nominal 0.25...\n",
       "    branch_method:          standard\n",
       "    tracking_id:            hdl:21.14100/311893dc-e754-448f-ae6c-c51fa1fedcae...\n",
       "    branch_time_in_child:   0.0\n",
       "    forcing_index:          1\n",
       "    Conventions:            CF-1.7 CMIP-6.0 UGRID-1.0\n",
       "    history:                File was processed by fremetar (GFDL analog of CM...\n",
       "    source_id:              GFDL-CM4\n",
       "    further_info_url:       https://furtherinfo.es-doc.org/CMIP6.NOAA-GFDL.GF...\n",
       "    parent_experiment_id:   piControl-spinup\n",
       "    sub_experiment:         none\n",
       "    parent_source_id:       GFDL-CM4\n",
       "    parent_mip_era:         CMIP6\n",
       "    initialization_index:   1\n",
       "    product:                model-output\n",
       "    experiment:             pre-industrial control\n",
       "    nominal_resolution:     25 km\n",
       "    contact:                gfdl.climate.model.info@noaa.gov\n",
       "    parent_time_units:      days since 1700-1-1\n",
       "    title:                  NOAA GFDL GFDL-CM4 model output prepared for CMIP...\n",
       "    source:                 GFDL-CM4 (2018): \\naerosol: interactive\\natmos: G...\n",
       "    sub_experiment_id:      none\n",
       "    physics_index:          1\n",
       "    source_type:            AOGCM\n",
       "    experiment_id:          piControl\n",
       "    mip_era:                CMIP6\n",
       "    comment:                <null ref>\n",
       "    variant_info:           N/A\n",
       "    references:             see further_info_url attribute\n",
       "    creation_date:          2019-02-07T19:26:09Z\n",
       "    grid_label:             gn\n",
       "    frequency:              mon\n",
       "    variable_id:            vo\n",
       "    realm:                  ocean\n",
       "    parent_variant_label:   r1i1p1f1\n",
       "    data_specs_version:     01.00.27\n",
       "    institution:            National Oceanic and Atmospheric Administration, ...\n",
       "    variant_label:          r1i1p1f1\n",
       "    table_id:               Omon\n",
       "    branch_time_in_parent:  54750.0\n",
       "    activity_id:            CMIP\n",
       "    institution_id:         NOAA-GFDL\n",
       "    realization_index:      1\n",
       "    parent_activity_id:     CMIP"
      ]
     },
     "execution_count": 27,
     "metadata": {},
     "output_type": "execute_result"
    }
   ],
   "source": [
    "ds_cnt_gn"
   ]
  },
  {
   "cell_type": "code",
   "execution_count": 28,
   "metadata": {},
   "outputs": [],
   "source": [
    "ds_pct_na_gn=ds_pct_gn.isel(x=slice(890,1050),y=slice(630,800),member_id=-1)\n",
    "ds_cnt_na_gn=ds_cnt_gn.isel(x=slice(890,1050),y=slice(630,800),member_id=-1)"
   ]
  },
  {
   "cell_type": "code",
   "execution_count": null,
   "metadata": {},
   "outputs": [],
   "source": [
    "#sst_pct=ds_pct_na_gn.tos.mean(axis=0)\n",
    "#sst_cnt=ds_cnt_na_gn.tos.mean(axis=0)\n",
    "#sst_diff=sst_pct-sst_cnt\n",
    "#sst_diff.plot()"
   ]
  },
  {
   "cell_type": "code",
   "execution_count": 11,
   "metadata": {},
   "outputs": [],
   "source": [
    "ds_pct_na_gr=ds_pct_gr.isel(lon=slice(285,320),lat=slice(120,150),lev=slice(9,12),member_id=-1)\n",
    "ds_cnt_na_gr=ds_cnt_gr.isel(lon=slice(290,320),lat=slice(120,150),lev=slice(9,12),member_id=-1)"
   ]
  },
  {
   "cell_type": "code",
   "execution_count": 29,
   "metadata": {},
   "outputs": [
    {
     "ename": "NameError",
     "evalue": "name 'ds_pct_na_gr' is not defined",
     "output_type": "error",
     "traceback": [
      "\u001b[0;31m---------------------------------------------------------------------------\u001b[0m",
      "\u001b[0;31mNameError\u001b[0m                                 Traceback (most recent call last)",
      "\u001b[0;32m<ipython-input-29-e29cb22ad269>\u001b[0m in \u001b[0;36m<module>\u001b[0;34m\u001b[0m\n\u001b[0;32m----> 1\u001b[0;31m \u001b[0mo2_pct\u001b[0m\u001b[0;34m=\u001b[0m\u001b[0mds_pct_na_gr\u001b[0m\u001b[0;34m.\u001b[0m\u001b[0mo2\u001b[0m\u001b[0;34m.\u001b[0m\u001b[0mmean\u001b[0m\u001b[0;34m(\u001b[0m\u001b[0maxis\u001b[0m\u001b[0;34m=\u001b[0m\u001b[0;34m(\u001b[0m\u001b[0;36m0\u001b[0m\u001b[0;34m,\u001b[0m\u001b[0;36m1\u001b[0m\u001b[0;34m)\u001b[0m\u001b[0;34m)\u001b[0m\u001b[0;34m/\u001b[0m\u001b[0;36m1035.\u001b[0m\u001b[0;34m*\u001b[0m\u001b[0;36m1.e6\u001b[0m\u001b[0;34m\u001b[0m\u001b[0;34m\u001b[0m\u001b[0m\n\u001b[0m\u001b[1;32m      2\u001b[0m \u001b[0mo2_cnt\u001b[0m\u001b[0;34m=\u001b[0m\u001b[0mds_cnt_na_gr\u001b[0m\u001b[0;34m.\u001b[0m\u001b[0mo2\u001b[0m\u001b[0;34m.\u001b[0m\u001b[0mmean\u001b[0m\u001b[0;34m(\u001b[0m\u001b[0maxis\u001b[0m\u001b[0;34m=\u001b[0m\u001b[0;34m(\u001b[0m\u001b[0;36m0\u001b[0m\u001b[0;34m,\u001b[0m\u001b[0;36m1\u001b[0m\u001b[0;34m)\u001b[0m\u001b[0;34m)\u001b[0m\u001b[0;34m/\u001b[0m\u001b[0;36m1035.\u001b[0m\u001b[0;34m*\u001b[0m\u001b[0;36m1.e6\u001b[0m\u001b[0;34m\u001b[0m\u001b[0;34m\u001b[0m\u001b[0m\n\u001b[1;32m      3\u001b[0m \u001b[0mo2_diff\u001b[0m\u001b[0;34m=\u001b[0m\u001b[0mo2_pct\u001b[0m\u001b[0;34m-\u001b[0m\u001b[0mo2_cnt\u001b[0m\u001b[0;34m\u001b[0m\u001b[0;34m\u001b[0m\u001b[0m\n\u001b[1;32m      4\u001b[0m \u001b[0;31m#ds_pct_na_gr.o2.plot()\u001b[0m\u001b[0;34m\u001b[0m\u001b[0;34m\u001b[0m\u001b[0;34m\u001b[0m\u001b[0m\n\u001b[1;32m      5\u001b[0m \u001b[0;31m#ds_pctn_na.lon[20:25]\u001b[0m\u001b[0;34m\u001b[0m\u001b[0;34m\u001b[0m\u001b[0;34m\u001b[0m\u001b[0m\n",
      "\u001b[0;31mNameError\u001b[0m: name 'ds_pct_na_gr' is not defined"
     ]
    }
   ],
   "source": [
    "o2_pct=ds_pct_na_gr.o2.mean(axis=(0,1))/1035.*1.e6\n",
    "o2_cnt=ds_cnt_na_gr.o2.mean(axis=(0,1))/1035.*1.e6\n",
    "o2_diff=o2_pct-o2_cnt\n",
    "#ds_pct_na_gr.o2.plot()\n",
    "#ds_pctn_na.lon[20:25]"
   ]
  },
  {
   "cell_type": "code",
   "execution_count": 44,
   "metadata": {},
   "outputs": [
    {
     "name": "stderr",
     "output_type": "stream",
     "text": [
      "/ncar/usr/jupyterhub/envs/cmip6-201910/lib/python3.7/site-packages/dask/array/numpy_compat.py:40: RuntimeWarning: invalid value encountered in true_divide\n",
      "  x = np.divide(x1, x2, out)\n"
     ]
    },
    {
     "data": {
      "text/plain": [
       "<matplotlib.collections.QuadMesh at 0x2b567b186400>"
      ]
     },
     "execution_count": 44,
     "metadata": {},
     "output_type": "execute_result"
    },
    {
     "data": {
      "image/png": "[encoded data removed]",
      "text/plain": [
       "<Figure size 432x288 with 2 Axes>"
      ]
     },
     "metadata": {
      "needs_background": "light"
     },
     "output_type": "display_data"
    }
   ],
   "source": [
    "o2_pct.plot(levels=[100,120,140,160,170,180,190,200,210,220,230,240,260,280,300])"
   ]
  },
  {
   "cell_type": "code",
   "execution_count": 40,
   "metadata": {},
   "outputs": [
    {
     "name": "stderr",
     "output_type": "stream",
     "text": [
      "/ncar/usr/jupyterhub/envs/cmip6-201910/lib/python3.7/site-packages/dask/array/numpy_compat.py:40: RuntimeWarning: invalid value encountered in true_divide\n",
      "  x = np.divide(x1, x2, out)\n"
     ]
    },
    {
     "data": {
      "text/plain": [
       "<matplotlib.collections.QuadMesh at 0x2b56792a4be0>"
      ]
     },
     "execution_count": 40,
     "metadata": {},
     "output_type": "execute_result"
    },
    {
     "data": {
      "image/png": "[encoded data removed]",
      "text/plain": [
       "<Figure size 432x288 with 2 Axes>"
      ]
     },
     "metadata": {
      "needs_background": "light"
     },
     "output_type": "display_data"
    }
   ],
   "source": [
    "o2_cnt.plot(levels=[100,120,140,160,170,180,190,200,210,220,230,240,260,280,300])"
   ]
  },
  {
   "cell_type": "code",
   "execution_count": 43,
   "metadata": {},
   "outputs": [
    {
     "name": "stderr",
     "output_type": "stream",
     "text": [
      "/ncar/usr/jupyterhub/envs/cmip6-201910/lib/python3.7/site-packages/dask/array/numpy_compat.py:40: RuntimeWarning: invalid value encountered in true_divide\n",
      "  x = np.divide(x1, x2, out)\n"
     ]
    },
    {
     "data": {
      "text/plain": [
       "<matplotlib.collections.QuadMesh at 0x2b567a25bcc0>"
      ]
     },
     "execution_count": 43,
     "metadata": {},
     "output_type": "execute_result"
    },
    {
     "data": {
      "image/png": "[encoded data removed]",
      "text/plain": [
       "<Figure size 432x288 with 2 Axes>"
      ]
     },
     "metadata": {
      "needs_background": "light"
     },
     "output_type": "display_data"
    }
   ],
   "source": [
    "o2_diff.plot(levels=[-60,-40,-20,0,20,40,60])"
   ]
  },
  {
   "cell_type": "code",
   "execution_count": 15,
   "metadata": {},
   "outputs": [],
   "source": []
  },
  {
   "cell_type": "code",
   "execution_count": null,
   "metadata": {},
   "outputs": [],
   "source": [
    "anam_data_sub.vTo.isel(lev=0,time=0).plot()"
   ]
  },
  {
   "cell_type": "code",
   "execution_count": null,
   "metadata": {},
   "outputs": [],
   "source": []
  },
  {
   "cell_type": "code",
   "execution_count": null,
   "metadata": {},
   "outputs": [],
   "source": [
    "meananom"
   ]
  },
  {
   "cell_type": "code",
   "execution_count": 35,
   "metadata": {},
   "outputs": [],
   "source": [
    "# KE\n",
    "ds_pct_na_gn['ke']=(0.5*(ds_pct_na_gn.uo**2 + ds_pct_na_gn.vo**2))\n",
    "ds_cnt_na_gn['ke']=(0.5*(ds_cnt_na_gn.uo**2 + ds_cnt_na_gn.vo**2))"
   ]
  },
  {
   "cell_type": "code",
   "execution_count": 36,
   "metadata": {},
   "outputs": [],
   "source": [
    "ke_pct=ds_pct_na_gn.ke.isel(lev=8).mean(dim='time')\n",
    "ke_cnt=ds_cnt_na_gn.ke.isel(lev=8).mean(dim='time')\n",
    "ke_diff=ke_pct-ke_cnt"
   ]
  },
  {
   "cell_type": "code",
   "execution_count": null,
   "metadata": {},
   "outputs": [],
   "source": [
    "ke_pct.plot()"
   ]
  },
  {
   "cell_type": "code",
   "execution_count": null,
   "metadata": {},
   "outputs": [],
   "source": [
    "ke_cnt.plot()"
   ]
  },
  {
   "cell_type": "code",
   "execution_count": null,
   "metadata": {},
   "outputs": [],
   "source": []
  }
 ],
 "metadata": {
  "kernelspec": {
   "display_name": "CMIP6 2019.10",
   "language": "python",
   "name": "cmip6-201910"
  },
  "language_info": {
   "codemirror_mode": {
    "name": "ipython",
    "version": 3
   },
   "file_extension": ".py",
   "mimetype": "text/x-python",
   "name": "python",
   "nbconvert_exporter": "python",
   "pygments_lexer": "ipython3",
   "version": "3.7.3"
  }
 },
 "nbformat": 4,
 "nbformat_minor": 4
}
