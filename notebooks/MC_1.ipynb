{
 "cells": [
  {
   "cell_type": "code",
   "execution_count": 6,
   "metadata": {},
   "outputs": [],
   "source": [
    "import xarray\n",
    "import intake\n",
    "import util "
   ]
  },
  {
   "cell_type": "code",
   "execution_count": 7,
   "metadata": {},
   "outputs": [
    {
     "data": {
      "text/plain": [
       "glade-cmip6-ESM Collection with 698724 entries:\n",
       "\t> 13 activity_id(s)\n",
       "\n",
       "\t> 24 institution_id(s)\n",
       "\n",
       "\t> 47 source_id(s)\n",
       "\n",
       "\t> 68 experiment_id(s)\n",
       "\n",
       "\t> 162 member_id(s)\n",
       "\n",
       "\t> 35 table_id(s)\n",
       "\n",
       "\t> 1027 variable_id(s)\n",
       "\n",
       "\t> 12 grid_label(s)\n",
       "\n",
       "\t> 59 dcpp_init_year(s)\n",
       "\n",
       "\t> 248 version(s)\n",
       "\n",
       "\t> 6813 time_range(s)\n",
       "\n",
       "\t> 698724 path(s)"
      ]
     },
     "execution_count": 7,
     "metadata": {},
     "output_type": "execute_result"
    }
   ],
   "source": [
    "if util.is_ncar_host():\n",
    "    col = intake.open_esm_datastore(\"../catalogs/glade-cmip6.json\")\n",
    "else:\n",
    "    col = intake.open_esm_datastore(\"../catalogs/pangeo-cmip6.json\")\n",
    "col"
   ]
  },
  {
   "cell_type": "code",
   "execution_count": 10,
   "metadata": {},
   "outputs": [
    {
     "name": "stdout",
     "output_type": "stream",
     "text": [
      "{'experiment_id': {'count': 68,\n",
      "                   'values': ['ssp370', 'histSST-piNTCF', 'histSST',\n",
      "                              'histSST-1950HC', 'hist-1950HC', 'hist-piNTCF',\n",
      "                              'piClim-NTCF', 'ssp370SST-lowNTCF',\n",
      "                              'ssp370-lowNTCF', 'ssp370SST', '1pctCO2-bgc',\n",
      "                              'hist-bgc', 'esm-ssp585', 'amip-future4K',\n",
      "                              'amip-m4K', 'a4SST', 'aqua-p4K', 'piSST',\n",
      "                              'amip-4xCO2', 'a4SSTice', 'amip-p4K',\n",
      "                              'aqua-control', 'aqua-4xCO2', 'abrupt-4xCO2',\n",
      "                              'historical', 'piControl', 'amip', '1pctCO2',\n",
      "                              'esm-hist', 'esm-piControl', 'ssp245', 'ssp585',\n",
      "                              'ssp126', 'hist-GHG', 'hist-aer',\n",
      "                              'dcppA-hindcast', 'dcppC-hindcast-noPinatubo',\n",
      "                              'dcppC-hindcast-noElChichon', 'dcppA-assim',\n",
      "                              'dcppC-hindcast-noAgung', 'hist-1950',\n",
      "                              'highresSST-present', 'control-1950',\n",
      "                              'land-hist-princeton', 'land-hist-cruNcep',\n",
      "                              'land-hist', 'deforest-globe',\n",
      "                              'esm-ssp585-ssp126Lu', 'land-cCO2', 'hist-noLu',\n",
      "                              'land-crop-noFert', 'ssp370-ssp126Lu',\n",
      "                              'ssp126-ssp370Lu', 'land-noLu', 'land-noFire',\n",
      "                              'land-hist-altStartYear', 'land-cClim', 'omip1',\n",
      "                              'pdSST-piAntSIC', 'pdSST-futAntSIC',\n",
      "                              'pdSST-pdSIC', 'pdSST-piArcSIC',\n",
      "                              'pdSST-futArcSIC', 'lgm', 'ssp119', 'ssp434',\n",
      "                              'ssp460', 'ssp534-over']},\n",
      " 'source_id': {'count': 47,\n",
      "               'values': ['BCC-ESM1', 'CESM2-WACCM', 'CESM2', 'CNRM-ESM2-1',\n",
      "                          'BCC-CSM2-MR', 'UKESM1-0-LL', 'GFDL-ESM4',\n",
      "                          'GISS-E2-1-G', 'CanESM5', 'CNRM-CM6-1', 'FGOALS-f3-L',\n",
      "                          'FGOALS-g3', 'SAM0-UNICON', 'HadGEM3-GC31-LL',\n",
      "                          'HadGEM3-GC31-MM', 'AWI-CM-1-1-MR', 'GFDL-AM4',\n",
      "                          'GFDL-CM4', 'GISS-E2-1-H', 'E3SM-1-0', 'CAMS-CSM1-0',\n",
      "                          'MCM-UA-1-0', 'EC-Earth3-LR', 'EC-Earth3',\n",
      "                          'EC-Earth3-Veg', 'MRI-ESM2-0', 'NESM3', 'MIROC-ES2L',\n",
      "                          'MIROC6', 'IPSL-CM6A-LR', 'NorCPM1', 'NorESM2-LM',\n",
      "                          'FIO-ESM-2-0', 'CNRM-CM6-1-HR', 'FGOALS-f3-H',\n",
      "                          'HadGEM3-GC31-HM', 'HadGEM3-GC31-LM', 'GFDL-CM4C192',\n",
      "                          'ECMWF-IFS-LR', 'ECMWF-IFS-HR', 'CMCC-CM2-VHR4',\n",
      "                          'CMCC-CM2-HR4', 'NICAM16-7S', 'NICAM16-8S',\n",
      "                          'NICAM16-9S', 'IPSL-CM6A-ATM-HR', 'MPI-ESM1-2-HR']},\n",
      " 'table_id': {'count': 35,\n",
      "              'values': ['day', 'Amon', 'AERmonZ', 'CFmon', 'EdayZ', 'Eday',\n",
      "                         'CFday', 'EmonZ', 'AERday', 'Emon', 'fx', 'Lmon',\n",
      "                         'AERmon', 'Ofx', 'Omon', 'SImon', 'Oyr', 'AERhr',\n",
      "                         'Eyr', 'LImon', 'SIday', '6hrPlev', 'CFsubhr',\n",
      "                         '6hrLev', 'Oday', 'ImonGre', 'ImonAnt', 'Efx',\n",
      "                         'IfxGre', '3hr', '6hrPlevPt', 'E1hr', 'E3hr', 'Oclim',\n",
      "                         'CF3hr']}}\n"
     ]
    }
   ],
   "source": [
    "import pprint \n",
    "uni_dict = col.unique(['source_id', 'experiment_id', 'table_id'])\n",
    "pprint.pprint(uni_dict, compact=True)"
   ]
  },
  {
   "cell_type": "code",
   "execution_count": 27,
   "metadata": {},
   "outputs": [
    {
     "data": {
      "text/html": [
       "<div>\n",
       "<style scoped>\n",
       "    .dataframe tbody tr th:only-of-type {\n",
       "        vertical-align: middle;\n",
       "    }\n",
       "\n",
       "    .dataframe tbody tr th {\n",
       "        vertical-align: top;\n",
       "    }\n",
       "\n",
       "    .dataframe thead th {\n",
       "        text-align: right;\n",
       "    }\n",
       "</style>\n",
       "<table border=\"1\" class=\"dataframe\">\n",
       "  <thead>\n",
       "    <tr style=\"text-align: right;\">\n",
       "      <th></th>\n",
       "      <th>activity_id</th>\n",
       "      <th>institution_id</th>\n",
       "      <th>source_id</th>\n",
       "      <th>experiment_id</th>\n",
       "      <th>member_id</th>\n",
       "      <th>table_id</th>\n",
       "      <th>variable_id</th>\n",
       "      <th>grid_label</th>\n",
       "      <th>dcpp_init_year</th>\n",
       "      <th>version</th>\n",
       "      <th>time_range</th>\n",
       "      <th>path</th>\n",
       "    </tr>\n",
       "  </thead>\n",
       "  <tbody>\n",
       "  </tbody>\n",
       "</table>\n",
       "</div>"
      ],
      "text/plain": [
       "Empty DataFrame\n",
       "Columns: [activity_id, institution_id, source_id, experiment_id, member_id, table_id, variable_id, grid_label, dcpp_init_year, version, time_range, path]\n",
       "Index: []"
      ]
     },
     "execution_count": 27,
     "metadata": {},
     "output_type": "execute_result"
    }
   ],
   "source": [
    "cat = col.search(source_id=['GFDL-CM4','CNRM-CM6-1-HR','ECMWF-IFS-HR','HadGEM3-GC31-MM'],\n",
    "               #  experiment_id=['piControl','1pctCO2'],\n",
    "                 #table_id=['Omon','Oyr'],\n",
    "#                 variable_id=['tos','msftbarot','msftmzmpa','msftmzsmpa','msftmz']\n",
    "                 variable_id=['msftmz'])\n",
    "                # grid_label=['gn'],time_range=['063101-065012','012101-014012'])\n",
    "cat.df"
   ]
  },
  {
   "cell_type": "code",
   "execution_count": 12,
   "metadata": {},
   "outputs": [
    {
     "name": "stdout",
     "output_type": "stream",
     "text": [
      "\n",
      "xarray will load netCDF datasets with dask using a single chunk for all arrays.\n",
      "For effective chunking, please provide chunks in cdf_kwargs.\n",
      "For example: cdf_kwargs={'chunks': {'time': 36}}\n",
      "\n",
      "--> The keys in the returned dictionary of datasets are constructed as follows:\n",
      "\t'activity_id.institution_id.source_id.experiment_id.table_id.grid_label'\n",
      "\n",
      "--> There will be 2 group(s)\n"
     ]
    }
   ],
   "source": [
    "dset_dict = cat.to_dataset_dict(zarr_kwargs={'consolidated': True, 'decode_times': False}, \n",
    "                                cdf_kwargs={'chunks': {}, 'decode_times': False})"
   ]
  },
  {
   "cell_type": "code",
   "execution_count": 13,
   "metadata": {},
   "outputs": [
    {
     "data": {
      "text/plain": [
       "dict_keys(['CMIP.NOAA-GFDL.GFDL-CM4.1pctCO2.Omon.gn', 'CMIP.NOAA-GFDL.GFDL-CM4.piControl.Omon.gn'])"
      ]
     },
     "execution_count": 13,
     "metadata": {},
     "output_type": "execute_result"
    }
   ],
   "source": [
    "dset_dict.keys()"
   ]
  },
  {
   "cell_type": "code",
   "execution_count": 14,
   "metadata": {},
   "outputs": [
    {
     "data": {
      "text/plain": [
       "dict_items([('CMIP.NOAA-GFDL.GFDL-CM4.1pctCO2.Omon.gn', <xarray.Dataset>\n",
       "Dimensions:    (bnds: 2, member_id: 1, time: 240, vertex: 4, x: 1440, y: 1080)\n",
       "Coordinates:\n",
       "  * bnds       (bnds) float64 1.0 2.0\n",
       "  * x          (x) float64 -299.7 -299.5 -299.2 -299.0 ... 59.53 59.78 60.03\n",
       "  * member_id  (member_id) <U8 'r1i1p1f1'\n",
       "  * y          (y) float64 -80.39 -80.31 -80.23 -80.15 ... 89.73 89.84 89.95\n",
       "  * time       (time) float64 4.382e+04 4.384e+04 ... 5.105e+04 5.108e+04\n",
       "Dimensions without coordinates: vertex\n",
       "Data variables:\n",
       "    lon        (y, x) float32 dask.array<chunksize=(1080, 1440), meta=np.ndarray>\n",
       "    lon_bnds   (y, x, vertex) float32 dask.array<chunksize=(1080, 1440, 4), meta=np.ndarray>\n",
       "    lat_bnds   (y, x, vertex) float32 dask.array<chunksize=(1080, 1440, 4), meta=np.ndarray>\n",
       "    lat        (y, x) float32 dask.array<chunksize=(1080, 1440), meta=np.ndarray>\n",
       "    time_bnds  (time, bnds) float64 dask.array<chunksize=(240, 2), meta=np.ndarray>\n",
       "    tos        (member_id, time, y, x) float32 dask.array<chunksize=(1, 240, 1080, 1440), meta=np.ndarray>\n",
       "Attributes:\n",
       "    title:                  NOAA GFDL GFDL-CM4 model output prepared for CMIP...\n",
       "    external_variables:     areacello\n",
       "    history:                File was processed by fremetar (GFDL analog of CM...\n",
       "    table_id:               Omon\n",
       "    activity_id:            CMIP\n",
       "    branch_method:          standard\n",
       "    branch_time_in_child:   0.0\n",
       "    comment:                <null ref>\n",
       "    contact:                gfdl.climate.model.info@noaa.gov\n",
       "    Conventions:            CF-1.7 CMIP-6.0 UGRID-1.0\n",
       "    creation_date:          2019-02-24T06:37:59Z\n",
       "    data_specs_version:     01.00.27\n",
       "    experiment:             1 pct per year CO2 concentration increase\n",
       "    experiment_id:          1pctCO2\n",
       "    forcing_index:          1\n",
       "    frequency:              mon\n",
       "    further_info_url:       https://furtherinfo.es-doc.org/CMIP6.NOAA-GFDL.GF...\n",
       "    grid:                   ocean data on native grid tripolar - nominal 0.25...\n",
       "    grid_label:             gn\n",
       "    initialization_index:   1\n",
       "    institution:            National Oceanic and Atmospheric Administration, ...\n",
       "    institution_id:         NOAA-GFDL\n",
       "    license:                CMIP6 model data produced by NOAA-GFDL is license...\n",
       "    mip_era:                CMIP6\n",
       "    nominal_resolution:     25 km\n",
       "    parent_activity_id:     CMIP\n",
       "    parent_experiment_id:   piControl\n",
       "    parent_mip_era:         CMIP6\n",
       "    parent_source_id:       GFDL-CM4\n",
       "    parent_variant_label:   r1i1p1f1\n",
       "    physics_index:          1\n",
       "    product:                model-output\n",
       "    realization_index:      1\n",
       "    realm:                  ocean\n",
       "    source:                 GFDL-CM4 (2018): \\naerosol: interactive\\natmos: G...\n",
       "    source_id:              GFDL-CM4\n",
       "    source_type:            AOGCM\n",
       "    sub_experiment:         none\n",
       "    sub_experiment_id:      none\n",
       "    tracking_id:            hdl:21.14100/0da75294-9c79-4863-9fc1-7577ccd2cd10\n",
       "    variable_id:            tos\n",
       "    variant_info:           N/A\n",
       "    references:             see further_info_url attribute\n",
       "    variant_label:          r1i1p1f1\n",
       "    branch_time_in_parent:  36500.0\n",
       "    parent_time_units:      days since 0001-1-1), ('CMIP.NOAA-GFDL.GFDL-CM4.piControl.Omon.gn', <xarray.Dataset>\n",
       "Dimensions:    (bnds: 2, member_id: 1, time: 240, vertex: 4, x: 1440, y: 1080)\n",
       "Coordinates:\n",
       "  * bnds       (bnds) float64 1.0 2.0\n",
       "  * x          (x) float64 -299.7 -299.5 -299.2 -299.0 ... 59.53 59.78 60.03\n",
       "  * member_id  (member_id) <U8 'r1i1p1f1'\n",
       "  * y          (y) float64 -80.39 -80.31 -80.23 -80.15 ... 89.73 89.84 89.95\n",
       "  * time       (time) float64 2.3e+05 2.3e+05 2.3e+05 ... 2.372e+05 2.372e+05\n",
       "Dimensions without coordinates: vertex\n",
       "Data variables:\n",
       "    lon        (y, x) float32 dask.array<chunksize=(1080, 1440), meta=np.ndarray>\n",
       "    lon_bnds   (y, x, vertex) float32 dask.array<chunksize=(1080, 1440, 4), meta=np.ndarray>\n",
       "    lat_bnds   (y, x, vertex) float32 dask.array<chunksize=(1080, 1440, 4), meta=np.ndarray>\n",
       "    lat        (y, x) float32 dask.array<chunksize=(1080, 1440), meta=np.ndarray>\n",
       "    time_bnds  (time, bnds) float64 dask.array<chunksize=(240, 2), meta=np.ndarray>\n",
       "    tos        (member_id, time, y, x) float32 dask.array<chunksize=(1, 240, 1080, 1440), meta=np.ndarray>\n",
       "Attributes:\n",
       "    title:                  NOAA GFDL GFDL-CM4 model output prepared for CMIP...\n",
       "    external_variables:     areacello\n",
       "    history:                File was processed by fremetar (GFDL analog of CM...\n",
       "    table_id:               Omon\n",
       "    activity_id:            CMIP\n",
       "    branch_method:          standard\n",
       "    branch_time_in_child:   0.0\n",
       "    branch_time_in_parent:  54750.0\n",
       "    comment:                <null ref>\n",
       "    contact:                gfdl.climate.model.info@noaa.gov\n",
       "    Conventions:            CF-1.7 CMIP-6.0 UGRID-1.0\n",
       "    creation_date:          2019-02-13T03:20:47Z\n",
       "    data_specs_version:     01.00.27\n",
       "    experiment:             pre-industrial control\n",
       "    experiment_id:          piControl\n",
       "    forcing_index:          1\n",
       "    frequency:              mon\n",
       "    further_info_url:       https://furtherinfo.es-doc.org/CMIP6.NOAA-GFDL.GF...\n",
       "    grid:                   ocean data on native grid tripolar - nominal 0.25...\n",
       "    grid_label:             gn\n",
       "    initialization_index:   1\n",
       "    institution:            National Oceanic and Atmospheric Administration, ...\n",
       "    institution_id:         NOAA-GFDL\n",
       "    license:                CMIP6 model data produced by NOAA-GFDL is license...\n",
       "    mip_era:                CMIP6\n",
       "    nominal_resolution:     25 km\n",
       "    parent_activity_id:     CMIP\n",
       "    parent_experiment_id:   piControl-spinup\n",
       "    parent_mip_era:         CMIP6\n",
       "    parent_source_id:       GFDL-CM4\n",
       "    parent_time_units:      days since 1700-1-1\n",
       "    parent_variant_label:   r1i1p1f1\n",
       "    physics_index:          1\n",
       "    product:                model-output\n",
       "    realization_index:      1\n",
       "    realm:                  ocean\n",
       "    source:                 GFDL-CM4 (2018): \\naerosol: interactive\\natmos: G...\n",
       "    source_id:              GFDL-CM4\n",
       "    source_type:            AOGCM\n",
       "    sub_experiment:         none\n",
       "    sub_experiment_id:      none\n",
       "    tracking_id:            hdl:21.14100/04d5616e-3e0c-42ea-9e6d-3908b3c12305\n",
       "    variable_id:            tos\n",
       "    variant_info:           N/A\n",
       "    references:             see further_info_url attribute\n",
       "    variant_label:          r1i1p1f1)])"
      ]
     },
     "execution_count": 14,
     "metadata": {},
     "output_type": "execute_result"
    }
   ],
   "source": [
    "dset_dict.items()"
   ]
  },
  {
   "cell_type": "code",
   "execution_count": 16,
   "metadata": {},
   "outputs": [],
   "source": [
    "ds_pct=dset_dict['CMIP.NOAA-GFDL.GFDL-CM4.1pctCO2.Omon.gn']"
   ]
  },
  {
   "cell_type": "code",
   "execution_count": 17,
   "metadata": {},
   "outputs": [],
   "source": [
    "ds_cnt=dset_dict['CMIP.NOAA-GFDL.GFDL-CM4.piControl.Omon.gn']"
   ]
  },
  {
   "cell_type": "code",
   "execution_count": 18,
   "metadata": {},
   "outputs": [
    {
     "data": {
      "text/plain": [
       "<xarray.Dataset>\n",
       "Dimensions:    (bnds: 2, member_id: 1, time: 240, vertex: 4, x: 1440, y: 1080)\n",
       "Coordinates:\n",
       "  * bnds       (bnds) float64 1.0 2.0\n",
       "  * x          (x) float64 -299.7 -299.5 -299.2 -299.0 ... 59.53 59.78 60.03\n",
       "  * member_id  (member_id) <U8 'r1i1p1f1'\n",
       "  * y          (y) float64 -80.39 -80.31 -80.23 -80.15 ... 89.73 89.84 89.95\n",
       "  * time       (time) float64 2.3e+05 2.3e+05 2.3e+05 ... 2.372e+05 2.372e+05\n",
       "Dimensions without coordinates: vertex\n",
       "Data variables:\n",
       "    lon        (y, x) float32 dask.array<chunksize=(1080, 1440), meta=np.ndarray>\n",
       "    lon_bnds   (y, x, vertex) float32 dask.array<chunksize=(1080, 1440, 4), meta=np.ndarray>\n",
       "    lat_bnds   (y, x, vertex) float32 dask.array<chunksize=(1080, 1440, 4), meta=np.ndarray>\n",
       "    lat        (y, x) float32 dask.array<chunksize=(1080, 1440), meta=np.ndarray>\n",
       "    time_bnds  (time, bnds) float64 dask.array<chunksize=(240, 2), meta=np.ndarray>\n",
       "    tos        (member_id, time, y, x) float32 dask.array<chunksize=(1, 240, 1080, 1440), meta=np.ndarray>\n",
       "Attributes:\n",
       "    title:                  NOAA GFDL GFDL-CM4 model output prepared for CMIP...\n",
       "    external_variables:     areacello\n",
       "    history:                File was processed by fremetar (GFDL analog of CM...\n",
       "    table_id:               Omon\n",
       "    activity_id:            CMIP\n",
       "    branch_method:          standard\n",
       "    branch_time_in_child:   0.0\n",
       "    branch_time_in_parent:  54750.0\n",
       "    comment:                <null ref>\n",
       "    contact:                gfdl.climate.model.info@noaa.gov\n",
       "    Conventions:            CF-1.7 CMIP-6.0 UGRID-1.0\n",
       "    creation_date:          2019-02-13T03:20:47Z\n",
       "    data_specs_version:     01.00.27\n",
       "    experiment:             pre-industrial control\n",
       "    experiment_id:          piControl\n",
       "    forcing_index:          1\n",
       "    frequency:              mon\n",
       "    further_info_url:       https://furtherinfo.es-doc.org/CMIP6.NOAA-GFDL.GF...\n",
       "    grid:                   ocean data on native grid tripolar - nominal 0.25...\n",
       "    grid_label:             gn\n",
       "    initialization_index:   1\n",
       "    institution:            National Oceanic and Atmospheric Administration, ...\n",
       "    institution_id:         NOAA-GFDL\n",
       "    license:                CMIP6 model data produced by NOAA-GFDL is license...\n",
       "    mip_era:                CMIP6\n",
       "    nominal_resolution:     25 km\n",
       "    parent_activity_id:     CMIP\n",
       "    parent_experiment_id:   piControl-spinup\n",
       "    parent_mip_era:         CMIP6\n",
       "    parent_source_id:       GFDL-CM4\n",
       "    parent_time_units:      days since 1700-1-1\n",
       "    parent_variant_label:   r1i1p1f1\n",
       "    physics_index:          1\n",
       "    product:                model-output\n",
       "    realization_index:      1\n",
       "    realm:                  ocean\n",
       "    source:                 GFDL-CM4 (2018): \\naerosol: interactive\\natmos: G...\n",
       "    source_id:              GFDL-CM4\n",
       "    source_type:            AOGCM\n",
       "    sub_experiment:         none\n",
       "    sub_experiment_id:      none\n",
       "    tracking_id:            hdl:21.14100/04d5616e-3e0c-42ea-9e6d-3908b3c12305\n",
       "    variable_id:            tos\n",
       "    variant_info:           N/A\n",
       "    references:             see further_info_url attribute\n",
       "    variant_label:          r1i1p1f1"
      ]
     },
     "execution_count": 18,
     "metadata": {},
     "output_type": "execute_result"
    }
   ],
   "source": [
    "ds_cnt"
   ]
  },
  {
   "cell_type": "code",
   "execution_count": 94,
   "metadata": {},
   "outputs": [
    {
     "name": "stderr",
     "output_type": "stream",
     "text": [
      "/ncar/usr/jupyterhub/envs/cmip6-201910/lib/python3.7/site-packages/dask/array/numpy_compat.py:40: RuntimeWarning: invalid value encountered in true_divide\n",
      "  x = np.divide(x1, x2, out)\n"
     ]
    },
    {
     "data": {
      "text/plain": [
       "<matplotlib.collections.QuadMesh at 0x2b3f658c5748>"
      ]
     },
     "execution_count": 94,
     "metadata": {},
     "output_type": "execute_result"
    },
    {
     "data": {
      "image/png": "[encoded data removed]",
      "text/plain": [
       "<Figure size 432x288 with 2 Axes>"
      ]
     },
     "metadata": {
      "needs_background": "light"
     },
     "output_type": "display_data"
    }
   ],
   "source": [
    "ds_pct_na=ds_pct.isel(x=slice(890,1050),y=slice(630,800),member_id=-1)\n",
    "ds_cnt_na=ds_cnt.isel(x=slice(890,1050),y=slice(630,800),member_id=-1)\n",
    "sst_pct=ds_pct_na.tos.mean(axis=0)\n",
    "sst_cnt=ds_cnt_na.tos.mean(axis=0)\n",
    "sst_diff=sst_pct-sst_cnt\n",
    "sst_diff.plot()"
   ]
  },
  {
   "cell_type": "code",
   "execution_count": 93,
   "metadata": {},
   "outputs": [
    {
     "data": {
      "text/plain": [
       "(170, 160)"
      ]
     },
     "execution_count": 93,
     "metadata": {},
     "output_type": "execute_result"
    }
   ],
   "source": [
    "sst_diff.shape"
   ]
  },
  {
   "cell_type": "code",
   "execution_count": 60,
   "metadata": {},
   "outputs": [
    {
     "data": {
      "text/plain": [
       "(array([301033., 631959., 833521., 710563., 561902., 803537., 902822.,\n",
       "        631926., 487804.,  62333.]),\n",
       " array([-1.9993237,  1.208225 ,  4.415774 ,  7.6233225, 10.830872 ,\n",
       "        14.038421 , 17.24597  , 20.453518 , 23.661066 , 26.868616 ,\n",
       "        30.076164 ], dtype=float32),\n",
       " <a list of 10 Patch objects>)"
      ]
     },
     "execution_count": 60,
     "metadata": {},
     "output_type": "execute_result"
    },
    {
     "data": {
      "image/png": "[encoded data removed]",
      "text/plain": [
       "<Figure size 432x288 with 1 Axes>"
      ]
     },
     "metadata": {
      "needs_background": "light"
     },
     "output_type": "display_data"
    }
   ],
   "source": [
    "ds_na=ds.isel(x=slice(890,1050),y=slice(630,800),member_id=-1)\n",
    "%ds_na.tos.plot()"
   ]
  },
  {
   "cell_type": "code",
   "execution_count": 66,
   "metadata": {},
   "outputs": [
    {
     "data": {
      "text/plain": [
       "<xarray.DataArray 'time' (time: 300)>\n",
       "array([0.00000000e+00, 8.08219178e-02, 1.61643836e-01, 2.45205479e-01,\n",
       "       3.28767123e-01, 4.12328767e-01, 4.95890411e-01, 5.80821918e-01,\n",
       "       6.64383562e-01, 7.47945205e-01, 8.31506849e-01, 9.15068493e-01,\n",
       "       1.00000000e+00, 1.08082192e+00, 1.16164384e+00, 1.24520548e+00,\n",
       "       1.32876712e+00, 1.41232877e+00, 1.49589041e+00, 1.58082192e+00,\n",
       "       1.66438356e+00, 1.74794521e+00, 1.83150685e+00, 1.91506849e+00,\n",
       "       2.00000000e+00, 2.08082192e+00, 2.16164384e+00, 2.24520548e+00,\n",
       "       2.32876712e+00, 2.41232877e+00, 2.49589041e+00, 2.58082192e+00,\n",
       "       2.66438356e+00, 2.74794521e+00, 2.83150685e+00, 2.91506849e+00,\n",
       "       3.00000000e+00, 3.08082192e+00, 3.16164384e+00, 3.24520548e+00,\n",
       "       3.32876712e+00, 3.41232877e+00, 3.49589041e+00, 3.58082192e+00,\n",
       "       3.66438356e+00, 3.74794521e+00, 3.83150685e+00, 3.91506849e+00,\n",
       "       4.00000000e+00, 4.08082192e+00, 4.16164384e+00, 4.24520548e+00,\n",
       "       4.32876712e+00, 4.41232877e+00, 4.49589041e+00, 4.58082192e+00,\n",
       "       4.66438356e+00, 4.74794521e+00, 4.83150685e+00, 4.91506849e+00,\n",
       "       5.00000000e+00, 5.08082192e+00, 5.16164384e+00, 5.24520548e+00,\n",
       "       5.32876712e+00, 5.41232877e+00, 5.49589041e+00, 5.58082192e+00,\n",
       "       5.66438356e+00, 5.74794521e+00, 5.83150685e+00, 5.91506849e+00,\n",
       "       6.00000000e+00, 6.08082192e+00, 6.16164384e+00, 6.24520548e+00,\n",
       "       6.32876712e+00, 6.41232877e+00, 6.49589041e+00, 6.58082192e+00,\n",
       "       6.66438356e+00, 6.74794521e+00, 6.83150685e+00, 6.91506849e+00,\n",
       "       7.00000000e+00, 7.08082192e+00, 7.16164384e+00, 7.24520548e+00,\n",
       "       7.32876712e+00, 7.41232877e+00, 7.49589041e+00, 7.58082192e+00,\n",
       "       7.66438356e+00, 7.74794521e+00, 7.83150685e+00, 7.91506849e+00,\n",
       "       8.00000000e+00, 8.08082192e+00, 8.16164384e+00, 8.24520548e+00,\n",
       "       8.32876712e+00, 8.41232877e+00, 8.49589041e+00, 8.58082192e+00,\n",
       "       8.66438356e+00, 8.74794521e+00, 8.83150685e+00, 8.91506849e+00,\n",
       "       9.00000000e+00, 9.08082192e+00, 9.16164384e+00, 9.24520548e+00,\n",
       "       9.32876712e+00, 9.41232877e+00, 9.49589041e+00, 9.58082192e+00,\n",
       "       9.66438356e+00, 9.74794521e+00, 9.83150685e+00, 9.91506849e+00,\n",
       "       1.00000000e+01, 1.00808219e+01, 1.01616438e+01, 1.02452055e+01,\n",
       "       1.03287671e+01, 1.04123288e+01, 1.04958904e+01, 1.05808219e+01,\n",
       "       1.06643836e+01, 1.07479452e+01, 1.08315068e+01, 1.09150685e+01,\n",
       "       1.10000000e+01, 1.10808219e+01, 1.11616438e+01, 1.12452055e+01,\n",
       "       1.13287671e+01, 1.14123288e+01, 1.14958904e+01, 1.15808219e+01,\n",
       "       1.16643836e+01, 1.17479452e+01, 1.18315068e+01, 1.19150685e+01,\n",
       "       1.20000000e+01, 1.20808219e+01, 1.21616438e+01, 1.22452055e+01,\n",
       "       1.23287671e+01, 1.24123288e+01, 1.24958904e+01, 1.25808219e+01,\n",
       "       1.26643836e+01, 1.27479452e+01, 1.28315068e+01, 1.29150685e+01,\n",
       "       1.30000000e+01, 1.30808219e+01, 1.31616438e+01, 1.32452055e+01,\n",
       "       1.33287671e+01, 1.34123288e+01, 1.34958904e+01, 1.35808219e+01,\n",
       "       1.36643836e+01, 1.37479452e+01, 1.38315068e+01, 1.39150685e+01,\n",
       "       1.40000000e+01, 1.40808219e+01, 1.41616438e+01, 1.42452055e+01,\n",
       "       1.43287671e+01, 1.44123288e+01, 1.44958904e+01, 1.45808219e+01,\n",
       "       1.46643836e+01, 1.47479452e+01, 1.48315068e+01, 1.49150685e+01,\n",
       "       1.50000000e+01, 1.50808219e+01, 1.51616438e+01, 1.52452055e+01,\n",
       "       1.53287671e+01, 1.54123288e+01, 1.54958904e+01, 1.55808219e+01,\n",
       "       1.56643836e+01, 1.57479452e+01, 1.58315068e+01, 1.59150685e+01,\n",
       "       1.60000000e+01, 1.60808219e+01, 1.61616438e+01, 1.62452055e+01,\n",
       "       1.63287671e+01, 1.64123288e+01, 1.64958904e+01, 1.65808219e+01,\n",
       "       1.66643836e+01, 1.67479452e+01, 1.68315068e+01, 1.69150685e+01,\n",
       "       1.70000000e+01, 1.70808219e+01, 1.71616438e+01, 1.72452055e+01,\n",
       "       1.73287671e+01, 1.74123288e+01, 1.74958904e+01, 1.75808219e+01,\n",
       "       1.76643836e+01, 1.77479452e+01, 1.78315068e+01, 1.79150685e+01,\n",
       "       1.80000000e+01, 1.80808219e+01, 1.81616438e+01, 1.82452055e+01,\n",
       "       1.83287671e+01, 1.84123288e+01, 1.84958904e+01, 1.85808219e+01,\n",
       "       1.86643836e+01, 1.87479452e+01, 1.88315068e+01, 1.89150685e+01,\n",
       "       1.90000000e+01, 1.90808219e+01, 1.91616438e+01, 1.92452055e+01,\n",
       "       1.93287671e+01, 1.94123288e+01, 1.94958904e+01, 1.95808219e+01,\n",
       "       1.96643836e+01, 1.97479452e+01, 1.98315068e+01, 1.99150685e+01,\n",
       "       1.60000000e+02, 1.60080822e+02, 1.60161644e+02, 1.60245205e+02,\n",
       "       1.60328767e+02, 1.60412329e+02, 1.60495890e+02, 1.60580822e+02,\n",
       "       1.60664384e+02, 1.60747945e+02, 1.60831507e+02, 1.60915068e+02,\n",
       "       1.61000000e+02, 1.61080822e+02, 1.61161644e+02, 1.61245205e+02,\n",
       "       1.61328767e+02, 1.61412329e+02, 1.61495890e+02, 1.61580822e+02,\n",
       "       1.61664384e+02, 1.61747945e+02, 1.61831507e+02, 1.61915068e+02,\n",
       "       1.62000000e+02, 1.62080822e+02, 1.62161644e+02, 1.62245205e+02,\n",
       "       1.62328767e+02, 1.62412329e+02, 1.62495890e+02, 1.62580822e+02,\n",
       "       1.62664384e+02, 1.62747945e+02, 1.62831507e+02, 1.62915068e+02,\n",
       "       1.63000000e+02, 1.63080822e+02, 1.63161644e+02, 1.63245205e+02,\n",
       "       1.63328767e+02, 1.63412329e+02, 1.63495890e+02, 1.63580822e+02,\n",
       "       1.63664384e+02, 1.63747945e+02, 1.63831507e+02, 1.63915068e+02,\n",
       "       1.64000000e+02, 1.64080822e+02, 1.64161644e+02, 1.64245205e+02,\n",
       "       1.64328767e+02, 1.64412329e+02, 1.64495890e+02, 1.64580822e+02,\n",
       "       1.64664384e+02, 1.64747945e+02, 1.64831507e+02, 1.64915068e+02])\n",
       "Coordinates:\n",
       "    member_id  <U8 'r1i1p1f1'\n",
       "  * time       (time) float64 15.5 45.0 74.5 ... 6.015e+04 6.018e+04 6.021e+04"
      ]
     },
     "execution_count": 66,
     "metadata": {},
     "output_type": "execute_result"
    }
   ],
   "source": [
    "dum=(ds_na.time-ds_na.time[0])/365\n",
    "dum.shape\n",
    "dum"
   ]
  },
  {
   "cell_type": "code",
   "execution_count": null,
   "metadata": {},
   "outputs": [],
   "source": []
  }
 ],
 "metadata": {
  "kernelspec": {
   "display_name": "CMIP6 2019.10",
   "language": "python",
   "name": "cmip6-201910"
  },
  "language_info": {
   "codemirror_mode": {
    "name": "ipython",
    "version": 3
   },
   "file_extension": ".py",
   "mimetype": "text/x-python",
   "name": "python",
   "nbconvert_exporter": "python",
   "pygments_lexer": "ipython3",
   "version": "3.7.3"
  }
 },
 "nbformat": 4,
 "nbformat_minor": 4
}
