{
 "cells": [
  {
   "cell_type": "code",
   "execution_count": 1,
   "metadata": {},
   "outputs": [
    {
     "name": "stderr",
     "output_type": "stream",
     "text": [
      "/srv/conda/envs/notebook/lib/python3.7/site-packages/intake/source/discovery.py:136: FutureWarning: The drivers ['stac-catalog', 'stac-collection', 'stac-item'] do not specify entry_points and were only discovered via a package scan. This may break in a future release of intake. The packages should be updated.\n",
      "  FutureWarning)\n"
     ]
    }
   ],
   "source": [
    "%matplotlib inline\n",
    "\n",
    "import xarray as xr\n",
    "import intake\n",
    "\n",
    "# util.py is in the local directory\n",
    "# it contains code that is common across project notebooks\n",
    "# or routines that are too extensive and might otherwise clutter\n",
    "# the notebook design\n",
    "import util "
   ]
  },
  {
   "cell_type": "code",
   "execution_count": 2,
   "metadata": {},
   "outputs": [
    {
     "data": {
      "text/plain": [
       "pangeo-cmip6-ESM Collection with 28691 entries:\n",
       "\t> 10 activity_id(s)\n",
       "\n",
       "\t> 23 institution_id(s)\n",
       "\n",
       "\t> 48 source_id(s)\n",
       "\n",
       "\t> 29 experiment_id(s)\n",
       "\n",
       "\t> 86 member_id(s)\n",
       "\n",
       "\t> 23 table_id(s)\n",
       "\n",
       "\t> 190 variable_id(s)\n",
       "\n",
       "\t> 7 grid_label(s)\n",
       "\n",
       "\t> 28691 zstore(s)\n",
       "\n",
       "\t> 59 dcpp_init_year(s)"
      ]
     },
     "execution_count": 2,
     "metadata": {},
     "output_type": "execute_result"
    }
   ],
   "source": [
    "if util.is_ncar_host():\n",
    "    col = intake.open_esm_datastore(\"../catalogs/glade-cmip6.json\")\n",
    "else:\n",
    "    col = intake.open_esm_datastore(\"../catalogs/pangeo-cmip6.json\")\n",
    "col"
   ]
  },
  {
   "cell_type": "code",
   "execution_count": 3,
   "metadata": {},
   "outputs": [
    {
     "data": {
      "text/html": [
       "<div>\n",
       "<style scoped>\n",
       "    .dataframe tbody tr th:only-of-type {\n",
       "        vertical-align: middle;\n",
       "    }\n",
       "\n",
       "    .dataframe tbody tr th {\n",
       "        vertical-align: top;\n",
       "    }\n",
       "\n",
       "    .dataframe thead th {\n",
       "        text-align: right;\n",
       "    }\n",
       "</style>\n",
       "<table border=\"1\" class=\"dataframe\">\n",
       "  <thead>\n",
       "    <tr style=\"text-align: right;\">\n",
       "      <th></th>\n",
       "      <th>activity_id</th>\n",
       "      <th>institution_id</th>\n",
       "      <th>source_id</th>\n",
       "      <th>experiment_id</th>\n",
       "      <th>member_id</th>\n",
       "      <th>table_id</th>\n",
       "      <th>variable_id</th>\n",
       "      <th>grid_label</th>\n",
       "      <th>zstore</th>\n",
       "      <th>dcpp_init_year</th>\n",
       "    </tr>\n",
       "  </thead>\n",
       "  <tbody>\n",
       "    <tr>\n",
       "      <th>0</th>\n",
       "      <td>AerChemMIP</td>\n",
       "      <td>BCC</td>\n",
       "      <td>BCC-ESM1</td>\n",
       "      <td>ssp370</td>\n",
       "      <td>r1i1p1f1</td>\n",
       "      <td>Amon</td>\n",
       "      <td>pr</td>\n",
       "      <td>gn</td>\n",
       "      <td>gs://cmip6/AerChemMIP/BCC/BCC-ESM1/ssp370/r1i1...</td>\n",
       "      <td>NaN</td>\n",
       "    </tr>\n",
       "    <tr>\n",
       "      <th>1</th>\n",
       "      <td>AerChemMIP</td>\n",
       "      <td>BCC</td>\n",
       "      <td>BCC-ESM1</td>\n",
       "      <td>ssp370</td>\n",
       "      <td>r1i1p1f1</td>\n",
       "      <td>Amon</td>\n",
       "      <td>prsn</td>\n",
       "      <td>gn</td>\n",
       "      <td>gs://cmip6/AerChemMIP/BCC/BCC-ESM1/ssp370/r1i1...</td>\n",
       "      <td>NaN</td>\n",
       "    </tr>\n",
       "    <tr>\n",
       "      <th>2</th>\n",
       "      <td>AerChemMIP</td>\n",
       "      <td>BCC</td>\n",
       "      <td>BCC-ESM1</td>\n",
       "      <td>ssp370</td>\n",
       "      <td>r1i1p1f1</td>\n",
       "      <td>Amon</td>\n",
       "      <td>tas</td>\n",
       "      <td>gn</td>\n",
       "      <td>gs://cmip6/AerChemMIP/BCC/BCC-ESM1/ssp370/r1i1...</td>\n",
       "      <td>NaN</td>\n",
       "    </tr>\n",
       "    <tr>\n",
       "      <th>3</th>\n",
       "      <td>AerChemMIP</td>\n",
       "      <td>BCC</td>\n",
       "      <td>BCC-ESM1</td>\n",
       "      <td>ssp370</td>\n",
       "      <td>r1i1p1f1</td>\n",
       "      <td>Amon</td>\n",
       "      <td>tasmax</td>\n",
       "      <td>gn</td>\n",
       "      <td>gs://cmip6/AerChemMIP/BCC/BCC-ESM1/ssp370/r1i1...</td>\n",
       "      <td>NaN</td>\n",
       "    </tr>\n",
       "    <tr>\n",
       "      <th>4</th>\n",
       "      <td>AerChemMIP</td>\n",
       "      <td>BCC</td>\n",
       "      <td>BCC-ESM1</td>\n",
       "      <td>ssp370</td>\n",
       "      <td>r1i1p1f1</td>\n",
       "      <td>Amon</td>\n",
       "      <td>tasmin</td>\n",
       "      <td>gn</td>\n",
       "      <td>gs://cmip6/AerChemMIP/BCC/BCC-ESM1/ssp370/r1i1...</td>\n",
       "      <td>NaN</td>\n",
       "    </tr>\n",
       "  </tbody>\n",
       "</table>\n",
       "</div>"
      ],
      "text/plain": [
       "  activity_id institution_id source_id experiment_id member_id table_id  \\\n",
       "0  AerChemMIP            BCC  BCC-ESM1        ssp370  r1i1p1f1     Amon   \n",
       "1  AerChemMIP            BCC  BCC-ESM1        ssp370  r1i1p1f1     Amon   \n",
       "2  AerChemMIP            BCC  BCC-ESM1        ssp370  r1i1p1f1     Amon   \n",
       "3  AerChemMIP            BCC  BCC-ESM1        ssp370  r1i1p1f1     Amon   \n",
       "4  AerChemMIP            BCC  BCC-ESM1        ssp370  r1i1p1f1     Amon   \n",
       "\n",
       "  variable_id grid_label                                             zstore  \\\n",
       "0          pr         gn  gs://cmip6/AerChemMIP/BCC/BCC-ESM1/ssp370/r1i1...   \n",
       "1        prsn         gn  gs://cmip6/AerChemMIP/BCC/BCC-ESM1/ssp370/r1i1...   \n",
       "2         tas         gn  gs://cmip6/AerChemMIP/BCC/BCC-ESM1/ssp370/r1i1...   \n",
       "3      tasmax         gn  gs://cmip6/AerChemMIP/BCC/BCC-ESM1/ssp370/r1i1...   \n",
       "4      tasmin         gn  gs://cmip6/AerChemMIP/BCC/BCC-ESM1/ssp370/r1i1...   \n",
       "\n",
       "   dcpp_init_year  \n",
       "0             NaN  \n",
       "1             NaN  \n",
       "2             NaN  \n",
       "3             NaN  \n",
       "4             NaN  "
      ]
     },
     "execution_count": 3,
     "metadata": {},
     "output_type": "execute_result"
    }
   ],
   "source": [
    "col.df.head()"
   ]
  },
  {
   "cell_type": "code",
   "execution_count": 4,
   "metadata": {},
   "outputs": [
    {
     "name": "stdout",
     "output_type": "stream",
     "text": [
      "{'experiment_id': {'count': 29,\n",
      "                   'values': ['ssp370', 'esm-ssp585', '1pctCO2-bgc', 'hist-bgc',\n",
      "                              '1pctCO2', 'abrupt-4xCO2', 'historical',\n",
      "                              'piControl', 'amip', 'esm-hist', 'esm-piControl',\n",
      "                              'hist-GHG', 'hist-aer', 'hist-nat', 'dcppA-assim',\n",
      "                              'dcppA-hindcast', 'dcppC-hindcast-noAgung',\n",
      "                              'dcppC-hindcast-noElChichon',\n",
      "                              'dcppC-hindcast-noPinatubo', 'highresSST-present',\n",
      "                              'control-1950', 'hist-1950', 'deforest-globe',\n",
      "                              'esm-ssp585-ssp126Lu', 'omip1', 'lgm', 'ssp126',\n",
      "                              'ssp245', 'ssp585']},\n",
      " 'source_id': {'count': 48,\n",
      "               'values': ['BCC-ESM1', 'BCC-CSM2-MR', 'CanESM5', 'CNRM-ESM2-1',\n",
      "                          'UKESM1-0-LL', 'GISS-E2-1-G', 'CESM2', 'GFDL-ESM4',\n",
      "                          'AWI-CM-1-1-MR', 'CAMS-CSM1-0', 'FGOALS-f3-L',\n",
      "                          'FGOALS-g3', 'CNRM-CM6-1', 'E3SM-1-0', 'EC-Earth3-LR',\n",
      "                          'EC-Earth3-Veg', 'EC-Earth3', 'FIO-ESM-2-0',\n",
      "                          'IPSL-CM6A-LR', 'MIROC-ES2L', 'MIROC6',\n",
      "                          'HadGEM3-GC31-LL', 'HadGEM3-GC31-MM', 'MRI-ESM2-0',\n",
      "                          'GISS-E2-1-G-CC', 'GISS-E2-1-H', 'CESM2-WACCM',\n",
      "                          'NorCPM1', 'GFDL-AM4', 'GFDL-CM4', 'NESM3',\n",
      "                          'SAM0-UNICON', 'MCM-UA-1-0', 'CMCC-CM2-HR4',\n",
      "                          'CMCC-CM2-VHR4', 'CNRM-CM6-1-HR', 'ECMWF-IFS-HR',\n",
      "                          'ECMWF-IFS-LR', 'IPSL-CM6A-ATM-HR', 'NICAM16-7S',\n",
      "                          'NICAM16-8S', 'NICAM16-9S', 'HadGEM3-GC31-HM',\n",
      "                          'HadGEM3-GC31-LM', 'MRI-AGCM3-2-H', 'MRI-AGCM3-2-S',\n",
      "                          'GFDL-CM4C192', 'MPI-ESM1-2-HR']},\n",
      " 'table_id': {'count': 23,\n",
      "              'values': ['Amon', 'Lmon', 'Oyr', 'Omon', 'SImon', 'day', '3hr',\n",
      "                         '6hrLev', 'LImon', 'Aclim', 'Ofx', 'fx', 'Emon',\n",
      "                         '6hrPlev', 'Oclim', 'SIclim', 'Eclim', 'Odec',\n",
      "                         'AERmon', 'ImonGre', '6hrPlevPt', 'CF3hr', 'E3hr']},\n",
      " 'variable_id': {'count': 190,\n",
      "                 'values': ['pr', 'prsn', 'tas', 'tasmax', 'tasmin', 'ts', 'ua',\n",
      "                            'va', 'cLeaf', 'cVeg', 'gpp', 'lai', 'npp', 'ra',\n",
      "                            'tran', 'chl', 'detoc', 'diftrblo', 'difvho',\n",
      "                            'difvso', 'dissic', 'dissicabio', 'dissicnat',\n",
      "                            'fgco2', 'fgco2abio', 'fgco2nat', 'no3', 'o2',\n",
      "                            'phyc', 'phyn', 'pon', 'talk', 'zooc', 'nbp',\n",
      "                            'fgo2', 'hfds', 'sos', 'tos', 'calc', 'dfe',\n",
      "                            'dissoc', 'expc', 'expn', 'expp', 'expsi', 'graz',\n",
      "                            'nh4', 'ph', 'phydiat', 'phydiaz', 'phypico',\n",
      "                            'pnitrate', 'po4', 'pp', 'remoc', 'si', 'hus',\n",
      "                            'psl', 'ta', 'zos', 'zg', 'mlotst', 'so', 'tauuo',\n",
      "                            'tauvo', 'thetao', 'thetaoga', 'uo', 'vo', 'volo',\n",
      "                            'wo', 'sithick', 'huss', 'rlds', 'rlus', 'hfls',\n",
      "                            'uas', 'vas', 'ps', 'ch4', 'clt', 'co2', 'evspsbl',\n",
      "                            'hfss', 'hurs', 'o3', 'prw', 'rlut', 'rlutcs',\n",
      "                            'rsds', 'rsdt', 'rsus', 'rsut', 'rsutcs', 'tauu',\n",
      "                            'tauv', 'snc', 'snw', 'cLitterAbove',\n",
      "                            'cLitterBelow', 'cRoot', 'cSoilFast', 'cSoilMedium',\n",
      "                            'cSoilSlow', 'mrro', 'mrros', 'mrso', 'mrsos', 'rh',\n",
      "                            'tsl', 'masscello', 'masso', 'thkcello', 'umo',\n",
      "                            'vmo', 'zostoga', 'hur', 'prc', 'sfcWind', 'wap',\n",
      "                            'siconc', 'siconca', 'agessc', 'areacello',\n",
      "                            'deptho', 'sftof', 'epc100', 'epcalc100', 'msftmz',\n",
      "                            'msftmzmpa', 'obvfsq', 'spco2', 'areacella', 'orog',\n",
      "                            'sftgif', 'sftlf', 'bigthetao', 'basin', 'hfy',\n",
      "                            'mfo', 'hursmax', 'hursmin', 'sfcWindmax', 'bfe',\n",
      "                            'bsi', 'chldiat', 'chlmisc', 'burntFractionAll',\n",
      "                            'cProduct', 'dpco2', 'intdic', 'intpp', 'expfe',\n",
      "                            'pbfe', 'pbsi', 'pcalc', 'phyfe', 'physi', 'ppdiat',\n",
      "                            'ppmisc', 'co3', 'zg1000', 'diftrelo', 'fescav',\n",
      "                            'phos', 'volcello', 'o2sat', 'zsatarag', 'bacc',\n",
      "                            'chlcalc', 'chldiaz', 'chlpico', 'sf6', 'msftmyz',\n",
      "                            'bddtalk', 'bddtdic', 'bddtdife', 'bddtdin',\n",
      "                            'bddtdip', 'bddtdisi', 'fediss', 'phyp', 'talknat',\n",
      "                            'cCwd', 'cfc11', 'msftmzsmpa', 'vsf', 'msftmrho',\n",
      "                            'arag', 'treeFrac']}}\n"
     ]
    }
   ],
   "source": [
    "import pprint \n",
    "uni_dict = col.unique(['source_id', 'experiment_id', 'table_id','variable_id'])\n",
    "pprint.pprint(uni_dict, compact=True)"
   ]
  },
  {
   "cell_type": "code",
   "execution_count": 6,
   "metadata": {},
   "outputs": [
    {
     "data": {
      "text/html": [
       "<div>\n",
       "<style scoped>\n",
       "    .dataframe tbody tr th:only-of-type {\n",
       "        vertical-align: middle;\n",
       "    }\n",
       "\n",
       "    .dataframe tbody tr th {\n",
       "        vertical-align: top;\n",
       "    }\n",
       "\n",
       "    .dataframe thead th {\n",
       "        text-align: right;\n",
       "    }\n",
       "</style>\n",
       "<table border=\"1\" class=\"dataframe\">\n",
       "  <thead>\n",
       "    <tr style=\"text-align: right;\">\n",
       "      <th></th>\n",
       "      <th>activity_id</th>\n",
       "      <th>institution_id</th>\n",
       "      <th>source_id</th>\n",
       "      <th>experiment_id</th>\n",
       "      <th>member_id</th>\n",
       "      <th>table_id</th>\n",
       "      <th>variable_id</th>\n",
       "      <th>grid_label</th>\n",
       "      <th>zstore</th>\n",
       "      <th>dcpp_init_year</th>\n",
       "    </tr>\n",
       "  </thead>\n",
       "  <tbody>\n",
       "    <tr>\n",
       "      <th>16635</th>\n",
       "      <td>CMIP</td>\n",
       "      <td>NOAA-GFDL</td>\n",
       "      <td>GFDL-CM4</td>\n",
       "      <td>piControl</td>\n",
       "      <td>r1i1p1f1</td>\n",
       "      <td>Omon</td>\n",
       "      <td>thetao</td>\n",
       "      <td>gn</td>\n",
       "      <td>gs://cmip6/CMIP/NOAA-GFDL/GFDL-CM4/piControl/r...</td>\n",
       "      <td>NaN</td>\n",
       "    </tr>\n",
       "    <tr>\n",
       "      <th>16637</th>\n",
       "      <td>CMIP</td>\n",
       "      <td>NOAA-GFDL</td>\n",
       "      <td>GFDL-CM4</td>\n",
       "      <td>piControl</td>\n",
       "      <td>r1i1p1f1</td>\n",
       "      <td>Omon</td>\n",
       "      <td>uo</td>\n",
       "      <td>gn</td>\n",
       "      <td>gs://cmip6/CMIP/NOAA-GFDL/GFDL-CM4/piControl/r...</td>\n",
       "      <td>NaN</td>\n",
       "    </tr>\n",
       "    <tr>\n",
       "      <th>16638</th>\n",
       "      <td>CMIP</td>\n",
       "      <td>NOAA-GFDL</td>\n",
       "      <td>GFDL-CM4</td>\n",
       "      <td>piControl</td>\n",
       "      <td>r1i1p1f1</td>\n",
       "      <td>Omon</td>\n",
       "      <td>vo</td>\n",
       "      <td>gn</td>\n",
       "      <td>gs://cmip6/CMIP/NOAA-GFDL/GFDL-CM4/piControl/r...</td>\n",
       "      <td>NaN</td>\n",
       "    </tr>\n",
       "  </tbody>\n",
       "</table>\n",
       "</div>"
      ],
      "text/plain": [
       "      activity_id institution_id source_id experiment_id member_id table_id  \\\n",
       "16635        CMIP      NOAA-GFDL  GFDL-CM4     piControl  r1i1p1f1     Omon   \n",
       "16637        CMIP      NOAA-GFDL  GFDL-CM4     piControl  r1i1p1f1     Omon   \n",
       "16638        CMIP      NOAA-GFDL  GFDL-CM4     piControl  r1i1p1f1     Omon   \n",
       "\n",
       "      variable_id grid_label  \\\n",
       "16635      thetao         gn   \n",
       "16637          uo         gn   \n",
       "16638          vo         gn   \n",
       "\n",
       "                                                  zstore  dcpp_init_year  \n",
       "16635  gs://cmip6/CMIP/NOAA-GFDL/GFDL-CM4/piControl/r...             NaN  \n",
       "16637  gs://cmip6/CMIP/NOAA-GFDL/GFDL-CM4/piControl/r...             NaN  \n",
       "16638  gs://cmip6/CMIP/NOAA-GFDL/GFDL-CM4/piControl/r...             NaN  "
      ]
     },
     "execution_count": 6,
     "metadata": {},
     "output_type": "execute_result"
    }
   ],
   "source": [
    "cat = col.search(source_id=['GFDL-CM4'],experiment_id=['piControl'], \n",
    "                 table_id='Omon', variable_id=['uo','vo','thetao'], grid_label=['gn'])\n",
    "cat.df"
   ]
  },
  {
   "cell_type": "code",
   "execution_count": 7,
   "metadata": {},
   "outputs": [
    {
     "name": "stdout",
     "output_type": "stream",
     "text": [
      "--> The keys in the returned dictionary of datasets are constructed as follows:\n",
      "\t'activity_id.institution_id.source_id.experiment_id.table_id.grid_label'\n",
      "\n",
      "--> There will be 1 group(s)\n"
     ]
    }
   ],
   "source": [
    "dset_dict = cat.to_dataset_dict(zarr_kwargs={'consolidated': True, 'decode_times': False}, \n",
    "                                cdf_kwargs={'chunks': {}, 'decode_times': False})"
   ]
  },
  {
   "cell_type": "code",
   "execution_count": 8,
   "metadata": {},
   "outputs": [
    {
     "data": {
      "text/plain": [
       "{'CMIP.NOAA-GFDL.GFDL-CM4.piControl.Omon.gn': <xarray.Dataset>\n",
       " Dimensions:    (bnds: 2, lev: 35, member_id: 1, time: 6000, vertex: 4, x: 1440, y: 1080)\n",
       " Coordinates:\n",
       "   * lev        (lev) float64 2.5 10.0 20.0 32.5 ... 5e+03 5.5e+03 6e+03 6.5e+03\n",
       "   * time       (time) int64 0 708 1416 2148 ... 4377060 4377792 4378524 4379256\n",
       "   * y          (y) float64 -80.39 -80.31 -80.23 -80.15 ... 89.73 89.84 89.95\n",
       "   * x          (x) float64 -299.7 -299.5 -299.2 -299.0 ... 59.53 59.78 60.03\n",
       "   * bnds       (bnds) float64 1.0 2.0\n",
       "   * member_id  (member_id) <U8 'r1i1p1f1'\n",
       " Dimensions without coordinates: vertex\n",
       " Data variables:\n",
       "     time_bnds  (time, bnds) float64 dask.array<chunksize=(6000, 2), meta=np.ndarray>\n",
       "     lat_bnds   (y, x, vertex) float32 dask.array<chunksize=(1080, 1440, 4), meta=np.ndarray>\n",
       "     lat        (y, x) float32 dask.array<chunksize=(1080, 1440), meta=np.ndarray>\n",
       "     lev_bnds   (lev, bnds) float64 dask.array<chunksize=(35, 2), meta=np.ndarray>\n",
       "     lon_bnds   (y, x, vertex) float32 dask.array<chunksize=(1080, 1440, 4), meta=np.ndarray>\n",
       "     lon        (y, x) float32 dask.array<chunksize=(1080, 1440), meta=np.ndarray>\n",
       "     thetao     (member_id, time, lev, y, x) float32 dask.array<chunksize=(1, 1, 35, 1080, 1440), meta=np.ndarray>\n",
       "     uo         (member_id, time, lev, y, x) float32 dask.array<chunksize=(1, 1, 35, 1080, 1440), meta=np.ndarray>\n",
       "     vo         (member_id, time, lev, y, x) float32 dask.array<chunksize=(1, 1, 35, 1080, 1440), meta=np.ndarray>\n",
       " Attributes:\n",
       "     parent_experiment_id:   piControl-spinup\n",
       "     tracking_id:            hdl:21.14100/0c09320b-3599-4aec-b1ae-364149665230...\n",
       "     mip_era:                CMIP6\n",
       "     nominal_resolution:     25 km\n",
       "     data_specs_version:     01.00.27\n",
       "     Conventions:            CF-1.7 CMIP-6.0 UGRID-1.0\n",
       "     comment:                <null ref>\n",
       "     variant_label:          r1i1p1f1\n",
       "     forcing_index:          1\n",
       "     parent_time_units:      days since 1700-1-1\n",
       "     frequency:              mon\n",
       "     experiment_id:          piControl\n",
       "     variant_info:           N/A\n",
       "     parent_activity_id:     CMIP\n",
       "     parent_source_id:       GFDL-CM4\n",
       "     product:                model-output\n",
       "     variable_id:            vo\n",
       "     source_type:            AOGCM\n",
       "     further_info_url:       https://furtherinfo.es-doc.org/CMIP6.NOAA-GFDL.GF...\n",
       "     experiment:             pre-industrial control\n",
       "     branch_method:          standard\n",
       "     sub_experiment:         none\n",
       "     title:                  NOAA GFDL GFDL-CM4 model output prepared for CMIP...\n",
       "     grid:                   ocean data on native grid tripolar - nominal 0.25...\n",
       "     activity_id:            CMIP\n",
       "     license:                CMIP6 model data produced by NOAA-GFDL is license...\n",
       "     source_id:              GFDL-CM4\n",
       "     realm:                  ocean\n",
       "     parent_mip_era:         CMIP6\n",
       "     source:                 GFDL-CM4 (2018): \\naerosol: interactive\\natmos: G...\n",
       "     physics_index:          1\n",
       "     institution_id:         NOAA-GFDL\n",
       "     grid_label:             gn\n",
       "     contact:                gfdl.climate.model.info@noaa.gov\n",
       "     sub_experiment_id:      none\n",
       "     external_variables:     areacello volcello\n",
       "     realization_index:      1\n",
       "     references:             see further_info_url attribute\n",
       "     creation_date:          2019-02-07T19:29:11Z\n",
       "     initialization_index:   1\n",
       "     branch_time_in_child:   0.0\n",
       "     history:                File was processed by fremetar (GFDL analog of CM...\n",
       "     table_id:               Omon\n",
       "     parent_variant_label:   r1i1p1f1\n",
       "     institution:            National Oceanic and Atmospheric Administration, ...\n",
       "     branch_time_in_parent:  54750.0}"
      ]
     },
     "execution_count": 8,
     "metadata": {},
     "output_type": "execute_result"
    }
   ],
   "source": [
    "dset_dict"
   ]
  },
  {
   "cell_type": "code",
   "execution_count": 9,
   "metadata": {},
   "outputs": [],
   "source": [
    "import pandas as pd\n",
    "import numpy as np\n",
    "import matplotlib.pyplot as plt"
   ]
  },
  {
   "cell_type": "code",
   "execution_count": 10,
   "metadata": {},
   "outputs": [
    {
     "data": {
      "text/plain": [
       "dict_keys(['CMIP.NOAA-GFDL.GFDL-CM4.piControl.Omon.gn'])"
      ]
     },
     "execution_count": 10,
     "metadata": {},
     "output_type": "execute_result"
    }
   ],
   "source": [
    "dset_dict.keys()"
   ]
  },
  {
   "cell_type": "code",
   "execution_count": 11,
   "metadata": {},
   "outputs": [],
   "source": [
    "ds = dset_dict['CMIP.NOAA-GFDL.GFDL-CM4.piControl.Omon.gn']"
   ]
  },
  {
   "cell_type": "code",
   "execution_count": 28,
   "metadata": {},
   "outputs": [],
   "source": [
    "#ds.uo\n",
    "#ds.thetao\n",
    "#ds.vo"
   ]
  },
  {
   "cell_type": "code",
   "execution_count": 13,
   "metadata": {},
   "outputs": [],
   "source": [
    "#data_sub = ds.isel(time=100,x=slice(890,1040),y=slice(630,780)).isel(lev=9).isel(member_id=-1)"
   ]
  },
  {
   "cell_type": "code",
   "execution_count": 12,
   "metadata": {},
   "outputs": [],
   "source": [
    "data_subtime = ds.isel(time=slice(0,120),x=slice(890,1040),y=slice(630,780)).isel(lev=9).isel(member_id=-1)\n",
    "#data_subtime['uuo'] = (data_subtime.uo * data_subtime.uo)\n",
    "#data_subtime['vvo'] = (data_subtime.vo * data_subtime.vo)\n",
    "#data_subtime['TTo'] = (data_subtime.thetao * data_subtime.thetao)\n",
    "data_subtime['uTo'] = (data_subtime.uo * data_subtime.thetao)\n",
    "data_subtime['vTo'] = (data_subtime.vo * data_subtime.thetao)\n",
    "#data_subtime['uvo'] = (data_subtime.uo * data_subtime.vo)\n",
    "#data_subtime['soso'] = (data_subtime.so * data_subtime.so)\n",
    "#data_subtime['vso'] = (data_subtime.vo * data_subtime.so)"
   ]
  },
  {
   "cell_type": "code",
   "execution_count": 15,
   "metadata": {},
   "outputs": [
    {
     "data": {
      "text/plain": [
       "<xarray.DataArray 'uuo' (time: 240, y: 150, x: 150)>\n",
       "dask.array<mul, shape=(240, 150, 150), dtype=float32, chunksize=(1, 150, 150), chunktype=numpy.ndarray>\n",
       "Coordinates:\n",
       "  * time       (time) int64 0 708 1416 2148 2880 ... 172260 172992 173724 174456\n",
       "    lev        float64 200.0\n",
       "  * y          (y) float64 30.24 30.46 30.67 30.89 ... 56.2 56.33 56.47 56.61\n",
       "  * x          (x) float64 -77.0 -76.75 -76.5 -76.24 ... -39.9 -39.65 -39.4\n",
       "    member_id  <U8 'r1i1p1f1'"
      ]
     },
     "execution_count": 15,
     "metadata": {},
     "output_type": "execute_result"
    }
   ],
   "source": [
    "#data_subtime.uuo"
   ]
  },
  {
   "cell_type": "code",
   "execution_count": 13,
   "metadata": {},
   "outputs": [],
   "source": [
    "mean_data_sub = data_subtime.mean(dim='time')\n",
    "anam_data_sub = data_subtime - mean_data_sub\n",
    "anam100_data_sub = anam_data_sub.mean(dim='time')\n",
    "anam100_data_sub['TotFlux_100'] = (anam100_data_sub.vTo**2 + anam100_data_sub.uTo**2)**0.5"
   ]
  },
  {
   "cell_type": "code",
   "execution_count": 14,
   "metadata": {},
   "outputs": [
    {
     "data": {
      "text/plain": [
       "<xarray.DataArray 'TotFlux_100' (y: 150, x: 150)>\n",
       "dask.array<pow, shape=(150, 150), dtype=float32, chunksize=(150, 150), chunktype=numpy.ndarray>\n",
       "Coordinates:\n",
       "    lev        float64 200.0\n",
       "  * y          (y) float64 30.24 30.46 30.67 30.89 ... 56.2 56.33 56.47 56.61\n",
       "  * x          (x) float64 -77.0 -76.75 -76.5 -76.24 ... -39.9 -39.65 -39.4\n",
       "    member_id  <U8 'r1i1p1f1'"
      ]
     },
     "execution_count": 14,
     "metadata": {},
     "output_type": "execute_result"
    }
   ],
   "source": [
    "anam100_data_sub.TotFlux_100"
   ]
  },
  {
   "cell_type": "code",
   "execution_count": null,
   "metadata": {},
   "outputs": [],
   "source": [
    "anam100_data_sub.TotFlux_100.plot()"
   ]
  },
  {
   "cell_type": "code",
   "execution_count": 23,
   "metadata": {},
   "outputs": [],
   "source": [
    "data_subtime = ds.isel(time=slice(5880,6000),x=slice(890,1040),y=slice(630,780)).isel(lev=9).isel(member_id=-1)\n",
    "#data_subtime['uuo'] = (data_subtime.uo * data_subtime.uo)\n",
    "#data_subtime['vvo'] = (data_subtime.vo * data_subtime.vo)\n",
    "#data_subtime['TTo'] = (data_subtime.thetao * data_subtime.thetao)\n",
    "data_subtime['uTo'] = (data_subtime.uo * data_subtime.thetao)\n",
    "data_subtime['vTo'] = (data_subtime.vo * data_subtime.thetao)\n",
    "#data_subtime['uvo'] = (data_subtime.uo * data_subtime.vo)\n",
    "#data_subtime['soso'] = (data_subtime.so * data_subtime.so)\n",
    "#data_subtime['vso'] = (data_subtime.vo * data_subtime.so)"
   ]
  },
  {
   "cell_type": "code",
   "execution_count": 24,
   "metadata": {},
   "outputs": [
    {
     "data": {
      "text/plain": [
       "<xarray.DataArray 'uuo' (time: 240, y: 150, x: 150)>\n",
       "dask.array<mul, shape=(240, 150, 150), dtype=float32, chunksize=(1, 150, 150), chunktype=numpy.ndarray>\n",
       "Coordinates:\n",
       "    lev        float64 200.0\n",
       "  * x          (x) float64 -77.0 -76.75 -76.5 -76.24 ... -39.9 -39.65 -39.4\n",
       "  * time       (time) int64 1270200 1270908 1271616 ... 1443192 1443924 1444656\n",
       "  * y          (y) float64 30.24 30.46 30.67 30.89 ... 56.2 56.33 56.47 56.61\n",
       "    member_id  <U8 'r1i1p1f1'"
      ]
     },
     "execution_count": 24,
     "metadata": {},
     "output_type": "execute_result"
    }
   ],
   "source": [
    "data_subtime.uuo"
   ]
  },
  {
   "cell_type": "code",
   "execution_count": 26,
   "metadata": {},
   "outputs": [],
   "source": [
    "mean_data_sub = data_subtime.mean(dim='time')\n",
    "anam_data_sub = data_subtime - mean_data_sub\n",
    "anam100_data_sub = anam_data_sub.mean(dim='time')\n",
    "anam100_data_sub['TotFlux_1840'] = (anam100_data_sub.vTo**2 + anam100_data_sub.uTo**2)**0.5"
   ]
  },
  {
   "cell_type": "code",
   "execution_count": null,
   "metadata": {},
   "outputs": [],
   "source": [
    "anam100_data_sub.TotFlux_1840.plot()"
   ]
  }
 ],
 "metadata": {
  "kernelspec": {
   "display_name": "Python 3",
   "language": "python",
   "name": "python3"
  },
  "language_info": {
   "codemirror_mode": {
    "name": "ipython",
    "version": 3
   },
   "file_extension": ".py",
   "mimetype": "text/x-python",
   "name": "python",
   "nbconvert_exporter": "python",
   "pygments_lexer": "ipython3",
   "version": "3.7.3"
  }
 },
 "nbformat": 4,
 "nbformat_minor": 4
}
